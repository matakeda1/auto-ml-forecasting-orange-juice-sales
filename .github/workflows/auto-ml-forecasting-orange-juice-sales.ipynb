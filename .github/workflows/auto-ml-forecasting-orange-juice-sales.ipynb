{
 "cells": [
  {
   "cell_type": "markdown",
   "metadata": {},
   "source": [
    "Copyright (c) Microsoft Corporation. All rights reserved.\n",
    "\n",
    "Licensed under the MIT License."
   ]
  },
  {
   "cell_type": "markdown",
   "metadata": {},
   "source": [
    "![Impressions](https://PixelServer20190423114238.azurewebsites.net/api/impressions/NotebookVM/how-to-use-azureml/automated-machine-learning/forecasting-orange-juice-sales/auto-ml-forecasting-orange-juice-sales.png)"
   ]
  },
  {
   "cell_type": "markdown",
   "metadata": {},
   "source": [
    "# Automated Machine Learning\n",
    "_**Orange Juice Sales Forecasting**_\n",
    "\n",
    "## Contents\n",
    "1. [Introduction](#Introduction)\n",
    "1. [Setup](#Setup)\n",
    "1. [Compute](#Compute)\n",
    "1. [Data](#Data)\n",
    "1. [Train](#Train)\n",
    "1. [Predict](#Predict)\n",
    "1. [Operationalize](#Operationalize)"
   ]
  },
  {
   "cell_type": "markdown",
   "metadata": {},
   "source": [
    "## Introduction\n",
    "In this example, we use AutoML to train, select, and operationalize a time-series forecasting model for multiple time-series.\n",
    "\n",
    "Make sure you have executed the [configuration notebook](../../../configuration.ipynb) before running this notebook.\n",
    "\n",
    "The examples in the follow code samples use the University of Chicago's Dominick's Finer Foods dataset to forecast orange juice sales. Dominick's was a grocery chain in the Chicago metropolitan area."
   ]
  },
  {
   "cell_type": "markdown",
   "metadata": {},
   "source": [
    "## Setup"
   ]
  },
  {
   "cell_type": "code",
   "execution_count": 3,
   "metadata": {},
   "outputs": [],
   "source": [
    "import azureml.core\n",
    "import pandas as pd\n",
    "import numpy as np\n",
    "import logging\n",
    "\n",
    "from azureml.core.workspace import Workspace\n",
    "from azureml.core.experiment import Experiment\n",
    "from azureml.train.automl import AutoMLConfig"
   ]
  },
  {
   "cell_type": "markdown",
   "metadata": {},
   "source": [
    "As part of the setup you have already created a <b>Workspace</b>. To run AutoML, you also need to create an <b>Experiment</b>. An Experiment corresponds to a prediction problem you are trying to solve, while a Run corresponds to a specific approach to the problem. "
   ]
  },
  {
   "cell_type": "code",
   "execution_count": 4,
   "metadata": {},
   "outputs": [
    {
     "data": {
      "text/html": [
       "<div>\n",
       "<style scoped>\n",
       "    .dataframe tbody tr th:only-of-type {\n",
       "        vertical-align: middle;\n",
       "    }\n",
       "\n",
       "    .dataframe tbody tr th {\n",
       "        vertical-align: top;\n",
       "    }\n",
       "\n",
       "    .dataframe thead th {\n",
       "        text-align: right;\n",
       "    }\n",
       "</style>\n",
       "<table border=\"1\" class=\"dataframe\">\n",
       "  <thead>\n",
       "    <tr style=\"text-align: right;\">\n",
       "      <th></th>\n",
       "      <th></th>\n",
       "    </tr>\n",
       "  </thead>\n",
       "  <tbody>\n",
       "    <tr>\n",
       "      <th>SDK version</th>\n",
       "      <td>1.0.83</td>\n",
       "    </tr>\n",
       "    <tr>\n",
       "      <th>Subscription ID</th>\n",
       "      <td>f0e66588-3d18-4097-84a3-23ca7fd53b26</td>\n",
       "    </tr>\n",
       "    <tr>\n",
       "      <th>Workspace</th>\n",
       "      <td>docs-ws</td>\n",
       "    </tr>\n",
       "    <tr>\n",
       "      <th>SKU</th>\n",
       "      <td>Enterprise</td>\n",
       "    </tr>\n",
       "    <tr>\n",
       "      <th>Resource Group</th>\n",
       "      <td>docs-aml</td>\n",
       "    </tr>\n",
       "    <tr>\n",
       "      <th>Location</th>\n",
       "      <td>japaneast</td>\n",
       "    </tr>\n",
       "    <tr>\n",
       "      <th>Run History Name</th>\n",
       "      <td>automl-ojforecasting</td>\n",
       "    </tr>\n",
       "  </tbody>\n",
       "</table>\n",
       "</div>"
      ],
      "text/plain": [
       "                                                      \n",
       "SDK version       1.0.83                              \n",
       "Subscription ID   f0e66588-3d18-4097-84a3-23ca7fd53b26\n",
       "Workspace         docs-ws                             \n",
       "SKU               Enterprise                          \n",
       "Resource Group    docs-aml                            \n",
       "Location          japaneast                           \n",
       "Run History Name  automl-ojforecasting                "
      ]
     },
     "execution_count": 4,
     "metadata": {},
     "output_type": "execute_result"
    }
   ],
   "source": [
    "ws = Workspace.from_config()\n",
    "\n",
    "# choose a name for the run history container in the workspace\n",
    "experiment_name = 'automl-ojforecasting'\n",
    "\n",
    "experiment = Experiment(ws, experiment_name)\n",
    "\n",
    "output = {}\n",
    "output['SDK version'] = azureml.core.VERSION\n",
    "output['Subscription ID'] = ws.subscription_id\n",
    "output['Workspace'] = ws.name\n",
    "output['SKU'] = ws.sku\n",
    "output['Resource Group'] = ws.resource_group\n",
    "output['Location'] = ws.location\n",
    "output['Run History Name'] = experiment_name\n",
    "pd.set_option('display.max_colwidth', -1)\n",
    "outputDf = pd.DataFrame(data = output, index = [''])\n",
    "outputDf.T"
   ]
  },
  {
   "cell_type": "markdown",
   "metadata": {},
   "source": [
    "## Compute\n",
    "\n",
    "You will need to create a [compute target](https://docs.microsoft.com/en-us/azure/machine-learning/service/how-to-set-up-training-targets#amlcompute) for your AutoML run. In this tutorial, you create AmlCompute as your training compute resource.\n",
    "\n",
    "### Creation of AmlCompute takes approximately 5 minutes. \n",
    "If the AmlCompute with that name is already in your workspace this code will skip the creation process.\n",
    "As with other Azure services, there are limits on certain resources (e.g. AmlCompute) associated with the Azure Machine Learning service. Please read this article on the default limits and how to request more quota."
   ]
  },
  {
   "cell_type": "code",
   "execution_count": 5,
   "metadata": {},
   "outputs": [
    {
     "name": "stdout",
     "output_type": "stream",
     "text": [
      "Found existing compute target.\n",
      "Checking cluster status...\n",
      "Succeeded\n",
      "AmlCompute wait for completion finished\n",
      "Minimum number of nodes requested have been provisioned\n"
     ]
    }
   ],
   "source": [
    "from azureml.core.compute import AmlCompute\n",
    "from azureml.core.compute import ComputeTarget\n",
    "\n",
    "# Choose a name for your cluster.\n",
    "amlcompute_cluster_name = \"cpu-cluster-oj\"\n",
    "\n",
    "found = False\n",
    "# Check if this compute target already exists in the workspace.\n",
    "cts = ws.compute_targets\n",
    "if amlcompute_cluster_name in cts and cts[amlcompute_cluster_name].type == 'AmlCompute':\n",
    "    found = True\n",
    "    print('Found existing compute target.')\n",
    "    compute_target = cts[amlcompute_cluster_name]\n",
    "    \n",
    "if not found:\n",
    "    print('Creating a new compute target...')\n",
    "    provisioning_config = AmlCompute.provisioning_configuration(vm_size = \"STANDARD_D2_V2\", # for GPU, use \"STANDARD_NC6\"\n",
    "                                                                vm_priority = 'lowpriority', # optional\n",
    "                                                                max_nodes = 6)\n",
    "\n",
    "    # Create the cluster.\n",
    "    compute_target = ComputeTarget.create(ws, amlcompute_cluster_name, provisioning_config)\n",
    "    \n",
    "print('Checking cluster status...')\n",
    "# Can poll for a minimum number of nodes and for a specific timeout.\n",
    "# If no min_node_count is provided, it will use the scale settings for the cluster.\n",
    "compute_target.wait_for_completion(show_output = True, min_node_count = None, timeout_in_minutes = 20)\n",
    "    \n",
    "# For a more detailed view of current AmlCompute status, use get_status()."
   ]
  },
  {
   "cell_type": "markdown",
   "metadata": {},
   "source": [
    "## Data\n",
    "You are now ready to load the historical orange juice sales data. We will load the CSV file into a plain pandas DataFrame; the time column in the CSV is called _WeekStarting_, so it will be specially parsed into the datetime type."
   ]
  },
  {
   "cell_type": "code",
   "execution_count": 6,
   "metadata": {},
   "outputs": [
    {
     "data": {
      "text/html": [
       "<div>\n",
       "<style scoped>\n",
       "    .dataframe tbody tr th:only-of-type {\n",
       "        vertical-align: middle;\n",
       "    }\n",
       "\n",
       "    .dataframe tbody tr th {\n",
       "        vertical-align: top;\n",
       "    }\n",
       "\n",
       "    .dataframe thead th {\n",
       "        text-align: right;\n",
       "    }\n",
       "</style>\n",
       "<table border=\"1\" class=\"dataframe\">\n",
       "  <thead>\n",
       "    <tr style=\"text-align: right;\">\n",
       "      <th></th>\n",
       "      <th>WeekStarting</th>\n",
       "      <th>Store</th>\n",
       "      <th>Brand</th>\n",
       "      <th>Quantity</th>\n",
       "      <th>logQuantity</th>\n",
       "      <th>Advert</th>\n",
       "      <th>Price</th>\n",
       "      <th>Age60</th>\n",
       "      <th>COLLEGE</th>\n",
       "      <th>INCOME</th>\n",
       "      <th>Hincome150</th>\n",
       "      <th>Large HH</th>\n",
       "      <th>Minorities</th>\n",
       "      <th>WorkingWoman</th>\n",
       "      <th>SSTRDIST</th>\n",
       "      <th>SSTRVOL</th>\n",
       "      <th>CPDIST5</th>\n",
       "      <th>CPWVOL5</th>\n",
       "    </tr>\n",
       "  </thead>\n",
       "  <tbody>\n",
       "    <tr>\n",
       "      <th>0</th>\n",
       "      <td>1990-06-14</td>\n",
       "      <td>2</td>\n",
       "      <td>dominicks</td>\n",
       "      <td>10560</td>\n",
       "      <td>9.26</td>\n",
       "      <td>1</td>\n",
       "      <td>1.59</td>\n",
       "      <td>0.23</td>\n",
       "      <td>0.25</td>\n",
       "      <td>10.55</td>\n",
       "      <td>0.46</td>\n",
       "      <td>0.10</td>\n",
       "      <td>0.11</td>\n",
       "      <td>0.30</td>\n",
       "      <td>2.11</td>\n",
       "      <td>1.14</td>\n",
       "      <td>1.93</td>\n",
       "      <td>0.38</td>\n",
       "    </tr>\n",
       "    <tr>\n",
       "      <th>1</th>\n",
       "      <td>1990-06-14</td>\n",
       "      <td>2</td>\n",
       "      <td>minute.maid</td>\n",
       "      <td>4480</td>\n",
       "      <td>8.41</td>\n",
       "      <td>0</td>\n",
       "      <td>3.17</td>\n",
       "      <td>0.23</td>\n",
       "      <td>0.25</td>\n",
       "      <td>10.55</td>\n",
       "      <td>0.46</td>\n",
       "      <td>0.10</td>\n",
       "      <td>0.11</td>\n",
       "      <td>0.30</td>\n",
       "      <td>2.11</td>\n",
       "      <td>1.14</td>\n",
       "      <td>1.93</td>\n",
       "      <td>0.38</td>\n",
       "    </tr>\n",
       "    <tr>\n",
       "      <th>2</th>\n",
       "      <td>1990-06-14</td>\n",
       "      <td>2</td>\n",
       "      <td>tropicana</td>\n",
       "      <td>8256</td>\n",
       "      <td>9.02</td>\n",
       "      <td>0</td>\n",
       "      <td>3.87</td>\n",
       "      <td>0.23</td>\n",
       "      <td>0.25</td>\n",
       "      <td>10.55</td>\n",
       "      <td>0.46</td>\n",
       "      <td>0.10</td>\n",
       "      <td>0.11</td>\n",
       "      <td>0.30</td>\n",
       "      <td>2.11</td>\n",
       "      <td>1.14</td>\n",
       "      <td>1.93</td>\n",
       "      <td>0.38</td>\n",
       "    </tr>\n",
       "    <tr>\n",
       "      <th>3</th>\n",
       "      <td>1990-06-14</td>\n",
       "      <td>5</td>\n",
       "      <td>dominicks</td>\n",
       "      <td>1792</td>\n",
       "      <td>7.49</td>\n",
       "      <td>1</td>\n",
       "      <td>1.59</td>\n",
       "      <td>0.12</td>\n",
       "      <td>0.32</td>\n",
       "      <td>10.92</td>\n",
       "      <td>0.54</td>\n",
       "      <td>0.10</td>\n",
       "      <td>0.05</td>\n",
       "      <td>0.41</td>\n",
       "      <td>3.80</td>\n",
       "      <td>0.68</td>\n",
       "      <td>1.60</td>\n",
       "      <td>0.74</td>\n",
       "    </tr>\n",
       "    <tr>\n",
       "      <th>4</th>\n",
       "      <td>1990-06-14</td>\n",
       "      <td>5</td>\n",
       "      <td>minute.maid</td>\n",
       "      <td>4224</td>\n",
       "      <td>8.35</td>\n",
       "      <td>0</td>\n",
       "      <td>2.99</td>\n",
       "      <td>0.12</td>\n",
       "      <td>0.32</td>\n",
       "      <td>10.92</td>\n",
       "      <td>0.54</td>\n",
       "      <td>0.10</td>\n",
       "      <td>0.05</td>\n",
       "      <td>0.41</td>\n",
       "      <td>3.80</td>\n",
       "      <td>0.68</td>\n",
       "      <td>1.60</td>\n",
       "      <td>0.74</td>\n",
       "    </tr>\n",
       "  </tbody>\n",
       "</table>\n",
       "</div>"
      ],
      "text/plain": [
       "  WeekStarting  Store        Brand  Quantity  logQuantity  Advert  Price  \\\n",
       "0 1990-06-14    2      dominicks    10560    9.26          1      1.59     \n",
       "1 1990-06-14    2      minute.maid  4480     8.41          0      3.17     \n",
       "2 1990-06-14    2      tropicana    8256     9.02          0      3.87     \n",
       "3 1990-06-14    5      dominicks    1792     7.49          1      1.59     \n",
       "4 1990-06-14    5      minute.maid  4224     8.35          0      2.99     \n",
       "\n",
       "   Age60  COLLEGE  INCOME  Hincome150  Large HH  Minorities  WorkingWoman  \\\n",
       "0 0.23   0.25     10.55   0.46        0.10      0.11        0.30            \n",
       "1 0.23   0.25     10.55   0.46        0.10      0.11        0.30            \n",
       "2 0.23   0.25     10.55   0.46        0.10      0.11        0.30            \n",
       "3 0.12   0.32     10.92   0.54        0.10      0.05        0.41            \n",
       "4 0.12   0.32     10.92   0.54        0.10      0.05        0.41            \n",
       "\n",
       "   SSTRDIST  SSTRVOL  CPDIST5  CPWVOL5  \n",
       "0 2.11      1.14     1.93     0.38      \n",
       "1 2.11      1.14     1.93     0.38      \n",
       "2 2.11      1.14     1.93     0.38      \n",
       "3 3.80      0.68     1.60     0.74      \n",
       "4 3.80      0.68     1.60     0.74      "
      ]
     },
     "execution_count": 6,
     "metadata": {},
     "output_type": "execute_result"
    }
   ],
   "source": [
    "time_column_name = 'WeekStarting'\n",
    "data = pd.read_csv(\"dominicks_OJ.csv\", parse_dates=[time_column_name])\n",
    "data.head()\n",
    "\n",
    "# ※parse_dates = datetime型で読み込むcolumn名\n",
    "\n",
    "# DataFrameの各行には、1つの店舗でのOJブランドの週ごとの販売量が保持されます。 \n",
    "# データには、販売価格、その週にOJブランドが店舗で宣伝されたかどうかを示すフラグ、\n",
    "# 店舗の場所に基づく顧客の人口統計情報も含まれます。 \n",
    "# 歴史的な理由から、データには販売数量の対数も含まれています。 \n",
    "# Dominickの食料品データは一般に、量の対数が一般的に好まれる計量経済モデリングテクニックを説明するために使用されます。"
   ]
  },
  {
   "cell_type": "markdown",
   "metadata": {},
   "source": [
    "Each row in the DataFrame holds a quantity of weekly sales for an OJ brand at a single store. The data also includes the sales price, a flag indicating if the OJ brand was advertised in the store that week, and some customer demographic information based on the store location. For historical reasons, the data also include the logarithm of the sales quantity. The Dominick's grocery data is commonly used to illustrate econometric modeling techniques where logarithms of quantities are generally preferred.    \n",
    "\n",
    "The task is now to build a time-series model for the _Quantity_ column. It is important to note that this dataset is comprised of many individual time-series - one for each unique combination of _Store_ and _Brand_. To distinguish the individual time-series, we thus define the **grain** - the columns whose values determine the boundaries between time-series: "
   ]
  },
  {
   "cell_type": "code",
   "execution_count": 7,
   "metadata": {},
   "outputs": [
    {
     "name": "stdout",
     "output_type": "stream",
     "text": [
      "Data contains 249 individual time-series.\n"
     ]
    }
   ],
   "source": [
    "grain_column_names = ['Store', 'Brand']\n",
    "nseries = data.groupby(grain_column_names).ngroups\n",
    "print('Data contains {0} individual time-series.'.format(nseries))\n",
    "\n",
    "# ここでのタスクは、_Quantity_列の時系列モデルを作成することです。 \n",
    "# このデータセットは、_Store_と_Brand_の一意の組み合わせごとに1つずつ、\n",
    "# 多くの個々の時系列で構成されることに注意することが重要です。 \n",
    "# 個々の時系列を区別するために、**グレイン**-時系列間の境界を決定する値を持つ列を定義します"
   ]
  },
  {
   "cell_type": "markdown",
   "metadata": {},
   "source": [
    "For demonstration purposes, we extract sales time-series for just a few of the stores:"
   ]
  },
  {
   "cell_type": "code",
   "execution_count": 10,
   "metadata": {},
   "outputs": [
    {
     "name": "stdout",
     "output_type": "stream",
     "text": [
      "Data subset contains 9 individual time-series.\n"
     ]
    }
   ],
   "source": [
    "use_stores = [2, 5, 8]\n",
    "data_subset = data[data.Store.isin(use_stores)]\n",
    "nseries = data_subset.groupby(grain_column_names).ngroups\n",
    "print('Data subset contains {0} individual time-series.'.format(nseries))"
   ]
  },
  {
   "cell_type": "markdown",
   "metadata": {},
   "source": [
    "### Data Splitting\n",
    "We now split the data into a training and a testing set for later forecast evaluation. The test set will contain the final 20 weeks of observed sales for each time-series. The splits should be stratified by series, so we use a group-by statement on the grain columns."
   ]
  },
  {
   "cell_type": "code",
   "execution_count": 12,
   "metadata": {},
   "outputs": [],
   "source": [
    "n_test_periods = 20\n",
    "\n",
    "def split_last_n_by_grain(df, n):\n",
    "    \"\"\"Group df by grain and split on last n rows for each group.\"\"\"\n",
    "    df_grouped = (df.sort_values(time_column_name) # Sort by ascending time\n",
    "                  .groupby(grain_column_names, group_keys=False))\n",
    "    df_head = df_grouped.apply(lambda dfg: dfg.iloc[:-n])\n",
    "    df_tail = df_grouped.apply(lambda dfg: dfg.iloc[-n:])\n",
    "    return df_head, df_tail\n",
    "\n",
    "train, test = split_last_n_by_grain(data_subset, n_test_periods)\n",
    "\n",
    "# データを後の予測評価のためにトレーニングとテストセットに分割しました。 \n",
    "# テストセットには、各時系列の観測された最後の20週間の売上が含まれます。 \n",
    "# 分割はシリーズごとに階層化する必要があるため、グレイン列でグループ化ステートメントを使用します"
   ]
  },
  {
   "cell_type": "markdown",
   "metadata": {},
   "source": [
    "### Upload data to datastore\n",
    "The [Machine Learning service workspace](https://docs.microsoft.com/en-us/azure/machine-learning/service/concept-workspace), is paired with the storage account, which contains the default data store. We will use it to upload the train and test data and create [tabular datasets](https://docs.microsoft.com/en-us/python/api/azureml-core/azureml.data.tabulardataset?view=azure-ml-py) for training and testing. A tabular dataset defines a series of lazily-evaluated, immutable operations to load data from the data source into tabular representation."
   ]
  },
  {
   "cell_type": "code",
   "execution_count": 13,
   "metadata": {},
   "outputs": [],
   "source": [
    "train.to_csv (r'./dominicks_OJ_train.csv', index = None, header=True)\n",
    "test.to_csv (r'./dominicks_OJ_test.csv', index = None, header=True)"
   ]
  },
  {
   "cell_type": "code",
   "execution_count": 14,
   "metadata": {},
   "outputs": [
    {
     "name": "stdout",
     "output_type": "stream",
     "text": [
      "Uploading an estimated of 2 files\n",
      "Uploading ./dominicks_OJ_test.csv\n",
      "Uploading ./dominicks_OJ_train.csv\n",
      "Uploaded ./dominicks_OJ_test.csv, 1 files out of an estimated total of 2\n",
      "Uploaded ./dominicks_OJ_train.csv, 2 files out of an estimated total of 2\n",
      "Uploaded 2 files\n"
     ]
    },
    {
     "data": {
      "text/plain": [
       "$AZUREML_DATAREFERENCE_1532db9c6a884e50a9fff3d592ca8fa6"
      ]
     },
     "execution_count": 14,
     "metadata": {},
     "output_type": "execute_result"
    }
   ],
   "source": [
    "datastore = ws.get_default_datastore()\n",
    "datastore.upload_files(files = ['./dominicks_OJ_train.csv', './dominicks_OJ_test.csv'], target_path = 'dataset/', overwrite = True,show_progress = True)\n",
    "\n",
    "# 本コマンド実施後、Azure Blob Storage にデータがあることを確認します\n",
    "# [azureml-blobstore-bc117e3e-d3e7-447e-bd5b-f2deaec712f8 / dataset]"
   ]
  },
  {
   "cell_type": "markdown",
   "metadata": {},
   "source": [
    "### Create dataset for training"
   ]
  },
  {
   "cell_type": "code",
   "execution_count": 15,
   "metadata": {},
   "outputs": [],
   "source": [
    "from azureml.core.dataset import Dataset\n",
    "train_dataset = Dataset.Tabular.from_delimited_files(path=datastore.path('dataset/dominicks_OJ_train.csv'))"
   ]
  },
  {
   "cell_type": "code",
   "execution_count": 16,
   "metadata": {},
   "outputs": [
    {
     "data": {
      "text/html": [
       "<div>\n",
       "<style scoped>\n",
       "    .dataframe tbody tr th:only-of-type {\n",
       "        vertical-align: middle;\n",
       "    }\n",
       "\n",
       "    .dataframe tbody tr th {\n",
       "        vertical-align: top;\n",
       "    }\n",
       "\n",
       "    .dataframe thead th {\n",
       "        text-align: right;\n",
       "    }\n",
       "</style>\n",
       "<table border=\"1\" class=\"dataframe\">\n",
       "  <thead>\n",
       "    <tr style=\"text-align: right;\">\n",
       "      <th></th>\n",
       "      <th>WeekStarting</th>\n",
       "      <th>Store</th>\n",
       "      <th>Brand</th>\n",
       "      <th>Quantity</th>\n",
       "      <th>logQuantity</th>\n",
       "      <th>Advert</th>\n",
       "      <th>Price</th>\n",
       "      <th>Age60</th>\n",
       "      <th>COLLEGE</th>\n",
       "      <th>INCOME</th>\n",
       "      <th>Hincome150</th>\n",
       "      <th>Large HH</th>\n",
       "      <th>Minorities</th>\n",
       "      <th>WorkingWoman</th>\n",
       "      <th>SSTRDIST</th>\n",
       "      <th>SSTRVOL</th>\n",
       "      <th>CPDIST5</th>\n",
       "      <th>CPWVOL5</th>\n",
       "    </tr>\n",
       "  </thead>\n",
       "  <tbody>\n",
       "    <tr>\n",
       "      <th>847</th>\n",
       "      <td>1992-04-09</td>\n",
       "      <td>8</td>\n",
       "      <td>tropicana</td>\n",
       "      <td>16192</td>\n",
       "      <td>9.69</td>\n",
       "      <td>0</td>\n",
       "      <td>2.50</td>\n",
       "      <td>0.25</td>\n",
       "      <td>0.10</td>\n",
       "      <td>10.60</td>\n",
       "      <td>0.05</td>\n",
       "      <td>0.13</td>\n",
       "      <td>0.04</td>\n",
       "      <td>0.28</td>\n",
       "      <td>2.64</td>\n",
       "      <td>1.50</td>\n",
       "      <td>2.91</td>\n",
       "      <td>0.64</td>\n",
       "    </tr>\n",
       "    <tr>\n",
       "      <th>848</th>\n",
       "      <td>1992-04-16</td>\n",
       "      <td>8</td>\n",
       "      <td>tropicana</td>\n",
       "      <td>6528</td>\n",
       "      <td>8.78</td>\n",
       "      <td>0</td>\n",
       "      <td>2.89</td>\n",
       "      <td>0.25</td>\n",
       "      <td>0.10</td>\n",
       "      <td>10.60</td>\n",
       "      <td>0.05</td>\n",
       "      <td>0.13</td>\n",
       "      <td>0.04</td>\n",
       "      <td>0.28</td>\n",
       "      <td>2.64</td>\n",
       "      <td>1.50</td>\n",
       "      <td>2.91</td>\n",
       "      <td>0.64</td>\n",
       "    </tr>\n",
       "    <tr>\n",
       "      <th>849</th>\n",
       "      <td>1992-04-23</td>\n",
       "      <td>8</td>\n",
       "      <td>tropicana</td>\n",
       "      <td>8320</td>\n",
       "      <td>9.03</td>\n",
       "      <td>0</td>\n",
       "      <td>2.89</td>\n",
       "      <td>0.25</td>\n",
       "      <td>0.10</td>\n",
       "      <td>10.60</td>\n",
       "      <td>0.05</td>\n",
       "      <td>0.13</td>\n",
       "      <td>0.04</td>\n",
       "      <td>0.28</td>\n",
       "      <td>2.64</td>\n",
       "      <td>1.50</td>\n",
       "      <td>2.91</td>\n",
       "      <td>0.64</td>\n",
       "    </tr>\n",
       "    <tr>\n",
       "      <th>850</th>\n",
       "      <td>1992-04-30</td>\n",
       "      <td>8</td>\n",
       "      <td>tropicana</td>\n",
       "      <td>30784</td>\n",
       "      <td>10.33</td>\n",
       "      <td>1</td>\n",
       "      <td>2.16</td>\n",
       "      <td>0.25</td>\n",
       "      <td>0.10</td>\n",
       "      <td>10.60</td>\n",
       "      <td>0.05</td>\n",
       "      <td>0.13</td>\n",
       "      <td>0.04</td>\n",
       "      <td>0.28</td>\n",
       "      <td>2.64</td>\n",
       "      <td>1.50</td>\n",
       "      <td>2.91</td>\n",
       "      <td>0.64</td>\n",
       "    </tr>\n",
       "    <tr>\n",
       "      <th>851</th>\n",
       "      <td>1992-05-07</td>\n",
       "      <td>8</td>\n",
       "      <td>tropicana</td>\n",
       "      <td>18048</td>\n",
       "      <td>9.80</td>\n",
       "      <td>0</td>\n",
       "      <td>2.89</td>\n",
       "      <td>0.25</td>\n",
       "      <td>0.10</td>\n",
       "      <td>10.60</td>\n",
       "      <td>0.05</td>\n",
       "      <td>0.13</td>\n",
       "      <td>0.04</td>\n",
       "      <td>0.28</td>\n",
       "      <td>2.64</td>\n",
       "      <td>1.50</td>\n",
       "      <td>2.91</td>\n",
       "      <td>0.64</td>\n",
       "    </tr>\n",
       "  </tbody>\n",
       "</table>\n",
       "</div>"
      ],
      "text/plain": [
       "    WeekStarting  Store      Brand  Quantity  logQuantity  Advert  Price  \\\n",
       "847 1992-04-09    8      tropicana  16192    9.69          0      2.50     \n",
       "848 1992-04-16    8      tropicana  6528     8.78          0      2.89     \n",
       "849 1992-04-23    8      tropicana  8320     9.03          0      2.89     \n",
       "850 1992-04-30    8      tropicana  30784    10.33         1      2.16     \n",
       "851 1992-05-07    8      tropicana  18048    9.80          0      2.89     \n",
       "\n",
       "     Age60  COLLEGE  INCOME  Hincome150  Large HH  Minorities  WorkingWoman  \\\n",
       "847 0.25   0.10     10.60   0.05        0.13      0.04        0.28            \n",
       "848 0.25   0.10     10.60   0.05        0.13      0.04        0.28            \n",
       "849 0.25   0.10     10.60   0.05        0.13      0.04        0.28            \n",
       "850 0.25   0.10     10.60   0.05        0.13      0.04        0.28            \n",
       "851 0.25   0.10     10.60   0.05        0.13      0.04        0.28            \n",
       "\n",
       "     SSTRDIST  SSTRVOL  CPDIST5  CPWVOL5  \n",
       "847 2.64      1.50     2.91     0.64      \n",
       "848 2.64      1.50     2.91     0.64      \n",
       "849 2.64      1.50     2.91     0.64      \n",
       "850 2.64      1.50     2.91     0.64      \n",
       "851 2.64      1.50     2.91     0.64      "
      ]
     },
     "execution_count": 16,
     "metadata": {},
     "output_type": "execute_result"
    }
   ],
   "source": [
    "train_dataset.to_pandas_dataframe().tail()"
   ]
  },
  {
   "cell_type": "markdown",
   "metadata": {},
   "source": [
    "## Modeling\n",
    "\n",
    "For forecasting tasks, AutoML uses pre-processing and estimation steps that are specific to time-series. AutoML will undertake the following pre-processing steps:\n",
    "* Detect time-series sample frequency (e.g. hourly, daily, weekly) and create new records for absent time points to make the series regular. A regular time series has a well-defined frequency and has a value at every sample point in a contiguous time span \n",
    "* Impute missing values in the target (via forward-fill) and feature columns (using median column values) \n",
    "* Create grain-based features to enable fixed effects across different series\n",
    "* Create time-based features to assist in learning seasonal patterns\n",
    "* Encode categorical variables to numeric quantities\n",
    "\n",
    "In this notebook, AutoML will train a single, regression-type model across **all** time-series in a given training set. This allows the model to generalize across related series. If you're looking for training multiple models for different time-series, please check out the forecasting grouping notebook. \n",
    "\n",
    "You are almost ready to start an AutoML training job. First, we need to separate the target column from the rest of the DataFrame: \n",
    "\n",
    "### [和訳]\n",
    "\n",
    "予測タスクの場合、AutoMLは時系列に固有の前処理および推定ステップを使用します。 \n",
    "\n",
    "AutoMLは、次の前処理手順を実行します。\n",
    "\n",
    "* 時系列のサンプル頻度（1時間ごと、1日ごと、1週間ごとなど）を検出し、不在の時点の新しいレコードを作成して、系列を定期的にします。\n",
    "  定期的な時系列には、明確に定義された頻度があり、連続するタイムスパンのすべてのサンプルポイントに値があります。\n",
    "* ターゲット（欠損値を使用）とフィーチャ列（中央値を使用）の欠損値を代入します\n",
    "* grain ベースの機能を作成して、さまざまなシリーズで固定効果を有効にします\n",
    "* 季節のパターンの学習を支援する時間ベースの機能を作成する\n",
    "* カテゴリ変数を数値にエンコードする\n",
    "\n",
    "このノートブックでは、AutoMLは特定のトレーニングセットのすべての時系列にわたって単一の回帰タイプモデルをトレーニングします。これにより、関連するシリーズ全体でモデルを一般化できます。\n",
    "異なる時系列の複数のモデルのトレーニングをお探しの場合は、予測グループ分けノートブックをご覧ください。\n",
    "\n",
    "AutoMLトレーニングジョブを開始する準備がほぼ整いました。最初に、ターゲット列を残りのDataFrameから分離する必要があります。"
   ]
  },
  {
   "cell_type": "code",
   "execution_count": 17,
   "metadata": {},
   "outputs": [],
   "source": [
    "target_column_name = 'Quantity'"
   ]
  },
  {
   "cell_type": "markdown",
   "metadata": {},
   "source": [
    "## Train\n",
    "\n",
    "The AutoMLConfig object defines the settings and data for an AutoML training job. Here, we set necessary inputs like the task type, the number of AutoML iterations to try, the training data, and cross-validation parameters. \n",
    "\n",
    "For forecasting tasks, there are some additional parameters that can be set: the name of the column holding the date/time, the grain column names, and the maximum forecast horizon. A time column is required for forecasting, while the grain is optional. If a grain is not given, AutoML assumes that the whole dataset is a single time-series. We also pass a list of columns to drop prior to modeling. The _logQuantity_ column is completely correlated with the target quantity, so it must be removed to prevent a target leak.\n",
    "\n",
    "The forecast horizon is given in units of the time-series frequency; for instance, the OJ series frequency is weekly, so a horizon of 20 means that a trained model will estimate sales up to 20 weeks beyond the latest date in the training data for each series. In this example, we set the maximum horizon to the number of samples per series in the test set (n_test_periods). Generally, the value of this parameter will be dictated by business needs. For example, a demand planning organizaion that needs to estimate the next month of sales would set the horizon accordingly. Please see the [energy_demand notebook](https://github.com/Azure/MachineLearningNotebooks/tree/master/how-to-use-azureml/automated-machine-learning/forecasting-energy-demand) for more discussion of forecast horizon.\n",
    "\n",
    "Finally, a note about the cross-validation (CV) procedure for time-series data. AutoML uses out-of-sample error estimates to select a best pipeline/model, so it is important that the CV fold splitting is done correctly. Time-series can violate the basic statistical assumptions of the canonical K-Fold CV strategy, so AutoML implements a [rolling origin validation](https://robjhyndman.com/hyndsight/tscv/) procedure to create CV folds for time-series data. To use this procedure, you just need to specify the desired number of CV folds in the AutoMLConfig object. It is also possible to bypass CV and use your own validation set by setting the *validation_data* parameter of AutoMLConfig.\n",
    "\n",
    "Here is a summary of AutoMLConfig parameters used for training the OJ model:\n",
    "\n",
    "|Property|Description|\n",
    "|-|-|\n",
    "|**task**|forecasting|\n",
    "|**primary_metric**|This is the metric that you want to optimize.<br> Forecasting supports the following primary metrics <br><i>spearman_correlation</i><br><i>normalized_root_mean_squared_error</i><br><i>r2_score</i><br><i>normalized_mean_absolute_error</i>\n",
    "|**experiment_timeout_hours**|Experimentation timeout in hours.|\n",
    "|**enable_early_stopping**|If early stopping is on, training will stop when the primary metric is no longer improving.|\n",
    "|**training_data**|Input dataset, containing both features and label column.|\n",
    "|**label_column_name**|The name of the label column.|\n",
    "|**compute_target**|The remote compute for training.|\n",
    "|**n_cross_validations**|Number of cross-validation folds to use for model/pipeline selection|\n",
    "|**enable_voting_ensemble**|Allow AutoML to create a Voting ensemble of the best performing models|\n",
    "|**enable_stack_ensemble**|Allow AutoML to create a Stack ensemble of the best performing models|\n",
    "|**debug_log**|Log file path for writing debugging information|\n",
    "|**time_column_name**|Name of the datetime column in the input data|\n",
    "|**grain_column_names**|Name(s) of the columns defining individual series in the input data|\n",
    "|**drop_column_names**|Name(s) of columns to drop prior to modeling|\n",
    "|**max_horizon**|Maximum desired forecast horizon in units of time-series frequency|\n",
    "\n",
    "### [和訳]\n",
    "\n",
    "AutoMLConfigオブジェクトは、AutoMLトレーニングジョブの設定とデータを定義します。ここでは、タスクタイプ、試行するAutoMLの反復回数、トレーニングデータ、相互検証パラメーターなどの必要な入力を設定します。\n",
    "\n",
    "予測タスクの場合、設定できる追加パラメーターがいくつかあります。日付/時刻を保持する列の名前、粒度列名、最大予測期間です。予測には時間列が必要ですが、粒度はオプションです。粒度が指定されていない場合、AutoMLはデータセット全体が単一の時系列であると想定します。また、モデリングの前にドロップする列のリストを渡します。 logQuantity列はターゲット量と完全に相関しているため、ターゲットリークを防ぐために削除する必要があります。\n",
    "\n",
    "予測期間は、時系列頻度の単位で与えられます。たとえば、OJシリーズの頻度は毎週であるため、20の期間は、トレーニング済みモデルが各シリーズのトレーニングデータの最新の日付から最大20週間の売上を見積もることを意味します。この例では、テストセットのシリーズごとのサンプル数（n_test_periods）に最大期間を設定します。通常、このパラメーターの値はビジネスニーズによって決まります。たとえば、来月の売上を予測する必要がある需要計画組織は、それに応じて max_horizon を設定します。予測期間の詳細については、energy_demand ノートブックを参照してください。\n",
    "\n",
    "最後に、時系列データの相互検証（CV）手順に関する注意。 AutoMLは、サンプル外のエラー推定値を使用して最適なパイプライン/モデルを選択するため、CVフォールド分割が正しく行われることが重要です。時系列は、標準的なKフォールドCV戦略の基本的な統計的仮定に違反する可能性があるため、AutoMLは、時系列データのCVフォールドを作成するためのローリングオリジン検証手順を実装します。この手順を使用するには、AutoMLConfigオブジェクトで必要なCVフォールドの数を指定するだけです。 AutoMLConfigのvalidation_dataパラメーターを設定することにより、CVをバイパスして独自の検証セットを使用することもできます。\n",
    "\n",
    "OJモデルのトレーニングに使用されるAutoMLConfigパラメーターの概要は次のとおりです。"
   ]
  },
  {
   "cell_type": "code",
   "execution_count": 18,
   "metadata": {},
   "outputs": [],
   "source": [
    "time_series_settings = {\n",
    "    'time_column_name': time_column_name,\n",
    "    'grain_column_names': grain_column_names,\n",
    "    'drop_column_names': ['logQuantity'],  # 'logQuantity' is a leaky feature, so we remove it.\n",
    "    'max_horizon': 20 #n_test_periods\n",
    "}\n",
    "\n",
    "automl_config = AutoMLConfig(task='forecasting',\n",
    "                             debug_log='automl_oj_sales_errors.log',\n",
    "                             primary_metric='normalized_mean_absolute_error',\n",
    "                             experiment_timeout_hours=0.25,\n",
    "                             iterations=20,\n",
    "                             max_concurrent_iterations=6,\n",
    "                             #experiment_exit_score=0.02\n",
    "                             training_data=train_dataset,                             \n",
    "                             label_column_name=target_column_name,\n",
    "                             compute_target=compute_target,\n",
    "                             enable_early_stopping=True,\n",
    "                             n_cross_validations=3,\n",
    "                             verbosity=logging.INFO,\n",
    "                             **time_series_settings)\n",
    "\n",
    "# option の追加：iterations=20, max_concurrent_iterations=6"
   ]
  },
  {
   "cell_type": "markdown",
   "metadata": {},
   "source": [
    "You can now submit a new training run. Depending on the data and number of iterations this operation may take several minutes.\n",
    "Information from each iteration will be printed to the console."
   ]
  },
  {
   "cell_type": "code",
   "execution_count": 19,
   "metadata": {},
   "outputs": [
    {
     "name": "stdout",
     "output_type": "stream",
     "text": [
      "Running on remote compute: cpu-cluster-oj\n",
      "Parent Run ID: AutoML_80fc5bdc-3cf6-4921-9e7b-688080cf1f78\n",
      "\n",
      "Current status: DatasetFeaturizationCompleted. Completed featurizing the dataset.\n",
      "Current status: ModelSelection. Beginning model selection.\n",
      "\n",
      "****************************************************************************************************\n",
      "ITERATION: The iteration being evaluated.\n",
      "PIPELINE: A summary description of the pipeline being evaluated.\n",
      "DURATION: Time taken for the current iteration.\n",
      "METRIC: The result of computing score on the fitted pipeline.\n",
      "BEST: The best observed score thus far.\n",
      "****************************************************************************************************\n",
      "\n",
      " ITERATION   PIPELINE                                       DURATION      METRIC      BEST\n",
      "         5   StandardScalerWrapper LassoLars                0:07:30       0.0344    0.0344\n",
      "         4   StandardScalerWrapper ElasticNet               0:07:31       0.0350    0.0344\n",
      "         3   StandardScalerWrapper ElasticNet               0:02:00       0.0366    0.0344\n",
      "         2   StandardScalerWrapper ElasticNet               0:07:31       0.0350    0.0344\n",
      "         1   StandardScalerWrapper ElasticNet               0:03:32       0.0363    0.0344\n",
      "         0   AutoArima                                      0:04:29          nan    0.0344\n",
      "ERROR: ClientException:\n",
      "\tMessage: Traceback (most recent call last):\n",
      "  File \"/azureml-envs/azureml_bb5f448562b2c4428838c28d9b22ab0f/lib/python3.6/site-packages/azureml/automl/runtime/_vendor/automl/client/core/runtime/runner.py\", line 378, in _run\n",
      "    random_state=random_state)\n",
      "  File \"/azureml-envs/azureml_bb5f448562b2c4428838c28d9b22ab0f/lib/python3.6/site-packages/azureml/automl/runtime/_vendor/automl/client/core/runtime/runner.py\", line 226, in _run_cv\n",
      "    fit_time = self.time_fit(m, X_train, y_train, sample_wt_train)\n",
      "  File \"/azureml-envs/azureml_bb5f448562b2c4428838c28d9b22ab0f/lib/python3.6/site-packages/azureml/automl/runtime/_vendor/automl/client/core/runtime/runner.py\", line 87, in time_fit\n",
      "    ClientRunner.fit_pipeline(m, X, y, sample_weight)\n",
      "  File \"/azureml-envs/azureml_bb5f448562b2c4428838c28d9b22ab0f/lib/python3.6/site-packages/azureml/automl/runtime/_vendor/automl/client/core/runtime/runner.py\", line 716, in fit_pipeline\n",
      "    pipeline_obj.fit(X, y.ravel(), **kwargs)\n",
      "  File \"/azureml-envs/azureml_bb5f448562b2c4428838c28d9b22ab0f/lib/python3.6/site-packages/sklearn/pipeline.py\", line 267, in fit\n",
      "    self._final_estimator.fit(Xt, y, **fit_params)\n",
      "  File \"/azureml-envs/azureml_bb5f448562b2c4428838c28d9b22ab0f/lib/python3.6/site-packages/azureml/automl/runtime/_vendor/automl/client/core/runtime/forecasting_models.py\", line 98, in fit\n",
      "    self._fit_single_grain(lvl, series_frame, tsdf.time_colname)\n",
      "  File \"/azureml-envs/azureml_bb5f448562b2c4428838c28d9b22ab0f/lib/python3.6/site-packages/azureml/automl/runtime/_vendor/automl/client/core/runtime/forecasting_models.py\", line 322, in _fit_single_grain\n",
      "    self._models[lvl] = self._fit_single_grain_impl(series_frame, lvl)\n",
      "  File \"/azureml-envs/azureml_bb5f448562b2c4428838c28d9b22ab0f/lib/python3.6/site-packages/azureml/automl/runtime/_vendor/automl/client/core/runtime/forecasting_models.py\", line 473, in _fit_single_grain_impl\n",
      "    model = self.pmdarima.auto_arima(series_values, error_action=\"ignore\")\n",
      "  File \"/azureml-envs/azureml_bb5f448562b2c4428838c28d9b22ab0f/lib/python3.6/site-packages/pmdarima/arima/auto.py\", line 665, in auto_arima\n",
      "    filtered = _post_ppc_arima(all_res)\n",
      "  File \"/azureml-envs/azureml_bb5f448562b2c4428838c28d9b22ab0f/lib/python3.6/site-packages/pmdarima/arima/auto.py\", line 930, in _post_ppc_arima\n",
      "    raise ValueError('Could not successfully fit ARIMA to input data. '\n",
      "ValueError: Could not successfully fit ARIMA to input data. It is likely your data is non-stationary. Please induce stationarity or try a different range of model order params. If your data is seasonal, check the period (m) of the data.\n",
      "\n",
      "\tInnerException None\n",
      "\tErrorResponse \n",
      "{\n",
      "    \"error\": {\n",
      "        \"code\": \"System\",\n",
      "        \"message\": \"Traceback (most recent call last):\\n  File \\\"/azureml-envs/azureml_bb5f448562b2c4428838c28d9b22ab0f/lib/python3.6/site-packages/azureml/automl/runtime/_vendor/automl/client/core/runtime/runner.py\\\", line 378, in _run\\n    random_state=random_state)\\n  File \\\"/azureml-envs/azureml_bb5f448562b2c4428838c28d9b22ab0f/lib/python3.6/site-packages/azureml/automl/runtime/_vendor/automl/client/core/runtime/runner.py\\\", line 226, in _run_cv\\n    fit_time = self.time_fit(m, X_train, y_train, sample_wt_train)\\n  File \\\"/azureml-envs/azureml_bb5f448562b2c4428838c28d9b22ab0f/lib/python3.6/site-packages/azureml/automl/runtime/_vendor/automl/client/core/runtime/runner.py\\\", line 87, in time_fit\\n    ClientRunner.fit_pipeline(m, X, y, sample_weight)\\n  File \\\"/azureml-envs/azureml_bb5f448562b2c4428838c28d9b22ab0f/lib/python3.6/site-packages/azureml/automl/runtime/_vendor/automl/client/core/runtime/runner.py\\\", line 716, in fit_pipeline\\n    pipeline_obj.fit(X, y.ravel(), **kwargs)\\n  File \\\"/azureml-envs/azureml_bb5f448562b2c4428838c28d9b22ab0f/lib/python3.6/site-packages/sklearn/pipeline.py\\\", line 267, in fit\\n    self._final_estimator.fit(Xt, y, **fit_params)\\n  File \\\"/azureml-envs/azureml_bb5f448562b2c4428838c28d9b22ab0f/lib/python3.6/site-packages/azureml/automl/runtime/_vendor/automl/client/core/runtime/forecasting_models.py\\\", line 98, in fit\\n    self._fit_single_grain(lvl, series_frame, tsdf.time_colname)\\n  File \\\"/azureml-envs/azureml_bb5f448562b2c4428838c28d9b22ab0f/lib/python3.6/site-packages/azureml/automl/runtime/_vendor/automl/client/core/runtime/forecasting_models.py\\\", line 322, in _fit_single_grain\\n    self._models[lvl] = self._fit_single_grain_impl(series_frame, lvl)\\n  File \\\"/azureml-envs/azureml_bb5f448562b2c4428838c28d9b22ab0f/lib/python3.6/site-packages/azureml/automl/runtime/_vendor/automl/client/core/runtime/forecasting_models.py\\\", line 473, in _fit_single_grain_impl\\n    model = self.pmdarima.auto_arima(series_values, error_action=\\\"ignore\\\")\\n  File \\\"/azureml-envs/azureml_bb5f448562b2c4428838c28d9b22ab0f/lib/python3.6/site-packages/pmdarima/arima/auto.py\\\", line 665, in auto_arima\\n    filtered = _post_ppc_arima(all_res)\\n  File \\\"/azureml-envs/azureml_bb5f448562b2c4428838c28d9b22ab0f/lib/python3.6/site-packages/pmdarima/arima/auto.py\\\", line 930, in _post_ppc_arima\\n    raise ValueError('Could not successfully fit ARIMA to input data. '\\nValueError: Could not successfully fit ARIMA to input data. It is likely your data is non-stationary. Please induce stationarity or try a different range of model order params. If your data is seasonal, check the period (m) of the data.\\n\"\n",
      "    }\n",
      "}\n",
      "         9   StandardScalerWrapper DecisionTree             0:02:52       0.0294    0.0294\n",
      "         8   StandardScalerWrapper ExtremeRandomTrees       0:03:04       0.0294    0.0294\n",
      "         7   StandardScalerWrapper RandomForest             0:02:23       0.0352    0.0294\n",
      "         6   StandardScalerWrapper ElasticNet               0:05:31       0.0369    0.0294\n",
      "        11   MinMaxScaler DecisionTree                      0:01:56       0.0326    0.0294\n",
      "        10   MinMaxScaler GradientBoosting                  0:01:57       0.0317    0.0294\n",
      "        17   StandardScalerWrapper ElasticNet               0:02:05       0.0350    0.0294\n",
      "        16   StandardScalerWrapper LassoLars                0:02:02       0.0344    0.0294\n",
      "        15   MinMaxScaler RandomForest                      0:02:00       0.0281    0.0281\n",
      "        14   StandardScalerWrapper ElasticNet               0:03:58       0.0352    0.0281\n",
      "        13   MaxAbsScaler LightGBM                          0:02:00       0.0315    0.0281\n",
      "        12   RobustScaler LassoLars                         0:01:58       0.0344    0.0281\n",
      "        19   StackEnsemble                                  0:02:06       0.0291    0.0281\n",
      "        18   VotingEnsemble                                 0:02:14       0.0270    0.0270\n"
     ]
    },
    {
     "data": {
      "text/html": [
       "<table style=\"width:100%\"><tr><th>Experiment</th><th>Id</th><th>Type</th><th>Status</th><th>Details Page</th><th>Docs Page</th></tr><tr><td>automl-ojforecasting</td><td>AutoML_80fc5bdc-3cf6-4921-9e7b-688080cf1f78</td><td>automl</td><td>Completed</td><td><a href=\"https://ml.azure.com/experiments/automl-ojforecasting/runs/AutoML_80fc5bdc-3cf6-4921-9e7b-688080cf1f78?wsid=/subscriptions/f0e66588-3d18-4097-84a3-23ca7fd53b26/resourcegroups/docs-aml/workspaces/docs-ws\" target=\"_blank\" rel=\"noopener\">Link to Azure Machine Learning studio</a></td><td><a href=\"https://docs.microsoft.com/en-us/python/api/overview/azure/ml/intro?view=azure-ml-py\" target=\"_blank\" rel=\"noopener\">Link to Documentation</a></td></tr></table>"
      ],
      "text/plain": [
       "Run(Experiment: automl-ojforecasting,\n",
       "Id: AutoML_80fc5bdc-3cf6-4921-9e7b-688080cf1f78,\n",
       "Type: automl,\n",
       "Status: Completed)"
      ]
     },
     "execution_count": 19,
     "metadata": {},
     "output_type": "execute_result"
    }
   ],
   "source": [
    "remote_run = experiment.submit(automl_config, show_output=True)\n",
    "remote_run\n",
    "\n",
    "# show_output = True に変更"
   ]
  },
  {
   "cell_type": "code",
   "execution_count": 20,
   "metadata": {},
   "outputs": [
    {
     "data": {
      "text/plain": [
       "{'runId': 'AutoML_80fc5bdc-3cf6-4921-9e7b-688080cf1f78',\n",
       " 'target': 'cpu-cluster-oj',\n",
       " 'status': 'Completed',\n",
       " 'startTimeUtc': '2020-03-20T09:53:22.805331Z',\n",
       " 'endTimeUtc': '2020-03-20T10:07:59.33594Z',\n",
       " 'properties': {'num_iterations': '20',\n",
       "  'training_type': 'TrainFull',\n",
       "  'acquisition_function': 'EI',\n",
       "  'primary_metric': 'normalized_mean_absolute_error',\n",
       "  'train_split': '0',\n",
       "  'acquisition_parameter': '0',\n",
       "  'num_cross_validation': '3',\n",
       "  'target': 'cpu-cluster-oj',\n",
       "  'RawAMLSettingsString': \"{'name': 'automl-ojforecasting', 'path': None, 'subscription_id': 'f0e66588-3d18-4097-84a3-23ca7fd53b26', 'resource_group': 'docs-aml', 'workspace_name': 'docs-ws', 'region': 'japaneast', 'compute_target': 'cpu-cluster-oj', 'spark_service': None, 'azure_service': None, 'iterations': 20, 'primary_metric': 'normalized_mean_absolute_error', 'task_type': 'regression', 'data_script': None, 'validation_size': 0.0, 'n_cross_validations': 3, 'y_min': None, 'y_max': None, 'num_classes': None, 'featurization': 'off', 'preprocess': False, 'lag_length': 0, 'is_timeseries': True, 'max_cores_per_iteration': 1, 'max_concurrent_iterations': 6, 'iteration_timeout_minutes': None, 'mem_in_mb': None, 'enforce_time_on_windows': False, 'experiment_timeout_minutes': 15, 'experiment_exit_score': None, 'whitelist_models': None, 'blacklist_algos': ['XGBoostRegressor', 'Prophet'], 'supported_models': ['LassoLars', 'LightGBM', 'ExtremeRandomTrees', 'FastLinearRegressor', 'DecisionTree', 'GradientBoosting', 'TensorFlowLinearRegressor', 'TCNForecaster', 'TensorFlowDNN', 'SGD', 'ElasticNet', 'KNN', 'RandomForest', 'OnlineGradientDescentRegressor', 'AutoArima', 'XGBoostRegressor', 'Prophet'], 'auto_blacklist': True, 'blacklist_samples_reached': False, 'exclude_nan_labels': True, 'verbosity': 20, 'debug_log': 'azureml_automl.log', 'show_warnings': False, 'model_explainability': False, 'service_url': None, 'sdk_url': None, 'sdk_packages': None, 'enable_onnx_compatible_models': False, 'enable_split_onnx_featurizer_estimator_models': False, 'vm_type': 'STANDARD_D2_V2', 'telemetry_verbosity': 'INFO', 'send_telemetry': True, 'enable_dnn': False, 'force_text_dnn': False, 'enable_feature_sweeping': False, 'time_column_name': 'WeekStarting', 'grain_column_names': ['Store', 'Brand'], 'drop_column_names': ['logQuantity'], 'max_horizon': 20, 'dropna': False, 'overwrite_columns': True, 'transform_dictionary': {'min': '_automl_target_col', 'max': '_automl_target_col', 'mean': '_automl_target_col'}, 'window_size': None, 'country_or_region': None, 'lags': None, 'seasonality': -1, 'use_stl': None, 'short_series_handling': True, 'enable_early_stopping': True, 'early_stopping_n_iters': 10, 'metrics': None, 'enable_ensembling': True, 'enable_stack_ensembling': True, 'ensemble_iterations': 15, 'enable_tf': False, 'enable_cache': True, 'enable_subsampling': False, 'subsample_seed': None, 'enable_nimbusml': False, 'enable_streaming': False, 'label_column_name': 'Quantity', 'weight_column_name': None, 'cost_mode': 0, 'metric_operation': 'minimize'}\",\n",
       "  'AMLSettingsJsonString': '{\"name\": \"automl-ojforecasting\", \"path\": null, \"subscription_id\": \"f0e66588-3d18-4097-84a3-23ca7fd53b26\", \"resource_group\": \"docs-aml\", \"workspace_name\": \"docs-ws\", \"region\": \"japaneast\", \"compute_target\": \"cpu-cluster-oj\", \"spark_service\": null, \"azure_service\": null, \"iterations\": 20, \"primary_metric\": \"normalized_mean_absolute_error\", \"task_type\": \"regression\", \"data_script\": null, \"validation_size\": 0.0, \"n_cross_validations\": 3, \"y_min\": null, \"y_max\": null, \"num_classes\": null, \"featurization\": \"off\", \"preprocess\": false, \"lag_length\": 0, \"is_timeseries\": true, \"max_cores_per_iteration\": 1, \"max_concurrent_iterations\": 6, \"iteration_timeout_minutes\": null, \"mem_in_mb\": null, \"enforce_time_on_windows\": false, \"experiment_timeout_minutes\": 15, \"experiment_exit_score\": null, \"whitelist_models\": null, \"blacklist_algos\": [\"XGBoostRegressor\", \"Prophet\"], \"supported_models\": [\"LassoLars\", \"LightGBM\", \"ExtremeRandomTrees\", \"FastLinearRegressor\", \"DecisionTree\", \"GradientBoosting\", \"TensorFlowLinearRegressor\", \"TCNForecaster\", \"TensorFlowDNN\", \"SGD\", \"ElasticNet\", \"KNN\", \"RandomForest\", \"OnlineGradientDescentRegressor\", \"AutoArima\", \"XGBoostRegressor\", \"Prophet\"], \"auto_blacklist\": true, \"blacklist_samples_reached\": false, \"exclude_nan_labels\": true, \"verbosity\": 20, \"debug_log\": \"azureml_automl.log\", \"show_warnings\": false, \"model_explainability\": false, \"service_url\": null, \"sdk_url\": null, \"sdk_packages\": null, \"enable_onnx_compatible_models\": false, \"enable_split_onnx_featurizer_estimator_models\": false, \"vm_type\": \"STANDARD_D2_V2\", \"telemetry_verbosity\": \"INFO\", \"send_telemetry\": true, \"enable_dnn\": false, \"force_text_dnn\": false, \"enable_feature_sweeping\": false, \"time_column_name\": \"WeekStarting\", \"grain_column_names\": [\"Store\", \"Brand\"], \"drop_column_names\": [\"logQuantity\"], \"max_horizon\": 20, \"dropna\": false, \"overwrite_columns\": true, \"transform_dictionary\": {\"min\": \"_automl_target_col\", \"max\": \"_automl_target_col\", \"mean\": \"_automl_target_col\"}, \"window_size\": null, \"country_or_region\": null, \"lags\": null, \"seasonality\": -1, \"use_stl\": null, \"short_series_handling\": true, \"enable_early_stopping\": true, \"early_stopping_n_iters\": 10, \"metrics\": null, \"enable_ensembling\": true, \"enable_stack_ensembling\": true, \"ensemble_iterations\": 15, \"enable_tf\": false, \"enable_cache\": true, \"enable_subsampling\": false, \"subsample_seed\": null, \"enable_nimbusml\": false, \"enable_streaming\": false, \"label_column_name\": \"Quantity\", \"weight_column_name\": null, \"cost_mode\": 0, \"metric_operation\": \"minimize\"}',\n",
       "  'DataPrepJsonString': '{\\\\\"training_data\\\\\": \\\\\"{\\\\\\\\\\\\\"blocks\\\\\\\\\\\\\": [{\\\\\\\\\\\\\"id\\\\\\\\\\\\\": \\\\\\\\\\\\\"f0d2e7e5-17e5-4db9-bd78-c812552023ac\\\\\\\\\\\\\", \\\\\\\\\\\\\"type\\\\\\\\\\\\\": \\\\\\\\\\\\\"Microsoft.DPrep.GetDatastoreFilesBlock\\\\\\\\\\\\\", \\\\\\\\\\\\\"arguments\\\\\\\\\\\\\": {\\\\\\\\\\\\\"datastores\\\\\\\\\\\\\": [{\\\\\\\\\\\\\"datastoreName\\\\\\\\\\\\\": \\\\\\\\\\\\\"workspaceblobstore\\\\\\\\\\\\\", \\\\\\\\\\\\\"path\\\\\\\\\\\\\": \\\\\\\\\\\\\"dataset/dominicks_OJ_train.csv\\\\\\\\\\\\\", \\\\\\\\\\\\\"resourceGroup\\\\\\\\\\\\\": \\\\\\\\\\\\\"docs-aml\\\\\\\\\\\\\", \\\\\\\\\\\\\"subscription\\\\\\\\\\\\\": \\\\\\\\\\\\\"f0e66588-3d18-4097-84a3-23ca7fd53b26\\\\\\\\\\\\\", \\\\\\\\\\\\\"workspaceName\\\\\\\\\\\\\": \\\\\\\\\\\\\"docs-ws\\\\\\\\\\\\\"}]}, \\\\\\\\\\\\\"localData\\\\\\\\\\\\\": {}, \\\\\\\\\\\\\"isEnabled\\\\\\\\\\\\\": true, \\\\\\\\\\\\\"name\\\\\\\\\\\\\": null, \\\\\\\\\\\\\"annotation\\\\\\\\\\\\\": null}, {\\\\\\\\\\\\\"id\\\\\\\\\\\\\": \\\\\\\\\\\\\"91c99f94-bd3b-450a-bf54-ae64718c295e\\\\\\\\\\\\\", \\\\\\\\\\\\\"type\\\\\\\\\\\\\": \\\\\\\\\\\\\"Microsoft.DPrep.ParseDelimitedBlock\\\\\\\\\\\\\", \\\\\\\\\\\\\"arguments\\\\\\\\\\\\\": {\\\\\\\\\\\\\"columnHeadersMode\\\\\\\\\\\\\": 3, \\\\\\\\\\\\\"fileEncoding\\\\\\\\\\\\\": 0, \\\\\\\\\\\\\"handleQuotedLineBreaks\\\\\\\\\\\\\": false, \\\\\\\\\\\\\"preview\\\\\\\\\\\\\": false, \\\\\\\\\\\\\"separator\\\\\\\\\\\\\": \\\\\\\\\\\\\",\\\\\\\\\\\\\", \\\\\\\\\\\\\"skipRows\\\\\\\\\\\\\": 0, \\\\\\\\\\\\\"skipRowsMode\\\\\\\\\\\\\": 0}, \\\\\\\\\\\\\"localData\\\\\\\\\\\\\": {}, \\\\\\\\\\\\\"isEnabled\\\\\\\\\\\\\": true, \\\\\\\\\\\\\"name\\\\\\\\\\\\\": null, \\\\\\\\\\\\\"annotation\\\\\\\\\\\\\": null}, {\\\\\\\\\\\\\"id\\\\\\\\\\\\\": \\\\\\\\\\\\\"43116875-9f15-45f9-b9bf-afebeab9b0aa\\\\\\\\\\\\\", \\\\\\\\\\\\\"type\\\\\\\\\\\\\": \\\\\\\\\\\\\"Microsoft.DPrep.DropColumnsBlock\\\\\\\\\\\\\", \\\\\\\\\\\\\"arguments\\\\\\\\\\\\\": {\\\\\\\\\\\\\"columns\\\\\\\\\\\\\": {\\\\\\\\\\\\\"type\\\\\\\\\\\\\": 0, \\\\\\\\\\\\\"details\\\\\\\\\\\\\": {\\\\\\\\\\\\\"selectedColumns\\\\\\\\\\\\\": [\\\\\\\\\\\\\"Path\\\\\\\\\\\\\"]}}}, \\\\\\\\\\\\\"localData\\\\\\\\\\\\\": {}, \\\\\\\\\\\\\"isEnabled\\\\\\\\\\\\\": true, \\\\\\\\\\\\\"name\\\\\\\\\\\\\": null, \\\\\\\\\\\\\"annotation\\\\\\\\\\\\\": null}, {\\\\\\\\\\\\\"id\\\\\\\\\\\\\": \\\\\\\\\\\\\"4851172c-bc1f-42be-8e9b-7de0292cd38b\\\\\\\\\\\\\", \\\\\\\\\\\\\"type\\\\\\\\\\\\\": \\\\\\\\\\\\\"Microsoft.DPrep.SetColumnTypesBlock\\\\\\\\\\\\\", \\\\\\\\\\\\\"arguments\\\\\\\\\\\\\": {\\\\\\\\\\\\\"columnConversion\\\\\\\\\\\\\": [{\\\\\\\\\\\\\"column\\\\\\\\\\\\\": {\\\\\\\\\\\\\"type\\\\\\\\\\\\\": 2, \\\\\\\\\\\\\"details\\\\\\\\\\\\\": {\\\\\\\\\\\\\"selectedColumn\\\\\\\\\\\\\": \\\\\\\\\\\\\"WeekStarting\\\\\\\\\\\\\"}}, \\\\\\\\\\\\\"typeArguments\\\\\\\\\\\\\": {\\\\\\\\\\\\\"dateTimeFormats\\\\\\\\\\\\\": [\\\\\\\\\\\\\"%Y-%m-%d\\\\\\\\\\\\\"]}, \\\\\\\\\\\\\"typeProperty\\\\\\\\\\\\\": 4}, {\\\\\\\\\\\\\"column\\\\\\\\\\\\\": {\\\\\\\\\\\\\"type\\\\\\\\\\\\\": 2, \\\\\\\\\\\\\"details\\\\\\\\\\\\\": {\\\\\\\\\\\\\"selectedColumn\\\\\\\\\\\\\": \\\\\\\\\\\\\"Store\\\\\\\\\\\\\"}}, \\\\\\\\\\\\\"typeProperty\\\\\\\\\\\\\": 2}, {\\\\\\\\\\\\\"column\\\\\\\\\\\\\": {\\\\\\\\\\\\\"type\\\\\\\\\\\\\": 2, \\\\\\\\\\\\\"details\\\\\\\\\\\\\": {\\\\\\\\\\\\\"selectedColumn\\\\\\\\\\\\\": \\\\\\\\\\\\\"Brand\\\\\\\\\\\\\"}}, \\\\\\\\\\\\\"typeProperty\\\\\\\\\\\\\": 0}, {\\\\\\\\\\\\\"column\\\\\\\\\\\\\": {\\\\\\\\\\\\\"type\\\\\\\\\\\\\": 2, \\\\\\\\\\\\\"details\\\\\\\\\\\\\": {\\\\\\\\\\\\\"selectedColumn\\\\\\\\\\\\\": \\\\\\\\\\\\\"Quantity\\\\\\\\\\\\\"}}, \\\\\\\\\\\\\"typeProperty\\\\\\\\\\\\\": 2}, {\\\\\\\\\\\\\"column\\\\\\\\\\\\\": {\\\\\\\\\\\\\"type\\\\\\\\\\\\\": 2, \\\\\\\\\\\\\"details\\\\\\\\\\\\\": {\\\\\\\\\\\\\"selectedColumn\\\\\\\\\\\\\": \\\\\\\\\\\\\"logQuantity\\\\\\\\\\\\\"}}, \\\\\\\\\\\\\"typeProperty\\\\\\\\\\\\\": 3}, {\\\\\\\\\\\\\"column\\\\\\\\\\\\\": {\\\\\\\\\\\\\"type\\\\\\\\\\\\\": 2, \\\\\\\\\\\\\"details\\\\\\\\\\\\\": {\\\\\\\\\\\\\"selectedColumn\\\\\\\\\\\\\": \\\\\\\\\\\\\"Advert\\\\\\\\\\\\\"}}, \\\\\\\\\\\\\"typeProperty\\\\\\\\\\\\\": 2}, {\\\\\\\\\\\\\"column\\\\\\\\\\\\\": {\\\\\\\\\\\\\"type\\\\\\\\\\\\\": 2, \\\\\\\\\\\\\"details\\\\\\\\\\\\\": {\\\\\\\\\\\\\"selectedColumn\\\\\\\\\\\\\": \\\\\\\\\\\\\"Price\\\\\\\\\\\\\"}}, \\\\\\\\\\\\\"typeProperty\\\\\\\\\\\\\": 3}, {\\\\\\\\\\\\\"column\\\\\\\\\\\\\": {\\\\\\\\\\\\\"type\\\\\\\\\\\\\": 2, \\\\\\\\\\\\\"details\\\\\\\\\\\\\": {\\\\\\\\\\\\\"selectedColumn\\\\\\\\\\\\\": \\\\\\\\\\\\\"Age60\\\\\\\\\\\\\"}}, \\\\\\\\\\\\\"typeProperty\\\\\\\\\\\\\": 3}, {\\\\\\\\\\\\\"column\\\\\\\\\\\\\": {\\\\\\\\\\\\\"type\\\\\\\\\\\\\": 2, \\\\\\\\\\\\\"details\\\\\\\\\\\\\": {\\\\\\\\\\\\\"selectedColumn\\\\\\\\\\\\\": \\\\\\\\\\\\\"COLLEGE\\\\\\\\\\\\\"}}, \\\\\\\\\\\\\"typeProperty\\\\\\\\\\\\\": 3}, {\\\\\\\\\\\\\"column\\\\\\\\\\\\\": {\\\\\\\\\\\\\"type\\\\\\\\\\\\\": 2, \\\\\\\\\\\\\"details\\\\\\\\\\\\\": {\\\\\\\\\\\\\"selectedColumn\\\\\\\\\\\\\": \\\\\\\\\\\\\"INCOME\\\\\\\\\\\\\"}}, \\\\\\\\\\\\\"typeProperty\\\\\\\\\\\\\": 3}, {\\\\\\\\\\\\\"column\\\\\\\\\\\\\": {\\\\\\\\\\\\\"type\\\\\\\\\\\\\": 2, \\\\\\\\\\\\\"details\\\\\\\\\\\\\": {\\\\\\\\\\\\\"selectedColumn\\\\\\\\\\\\\": \\\\\\\\\\\\\"Hincome150\\\\\\\\\\\\\"}}, \\\\\\\\\\\\\"typeProperty\\\\\\\\\\\\\": 3}, {\\\\\\\\\\\\\"column\\\\\\\\\\\\\": {\\\\\\\\\\\\\"type\\\\\\\\\\\\\": 2, \\\\\\\\\\\\\"details\\\\\\\\\\\\\": {\\\\\\\\\\\\\"selectedColumn\\\\\\\\\\\\\": \\\\\\\\\\\\\"Large HH\\\\\\\\\\\\\"}}, \\\\\\\\\\\\\"typeProperty\\\\\\\\\\\\\": 3}, {\\\\\\\\\\\\\"column\\\\\\\\\\\\\": {\\\\\\\\\\\\\"type\\\\\\\\\\\\\": 2, \\\\\\\\\\\\\"details\\\\\\\\\\\\\": {\\\\\\\\\\\\\"selectedColumn\\\\\\\\\\\\\": \\\\\\\\\\\\\"Minorities\\\\\\\\\\\\\"}}, \\\\\\\\\\\\\"typeProperty\\\\\\\\\\\\\": 3}, {\\\\\\\\\\\\\"column\\\\\\\\\\\\\": {\\\\\\\\\\\\\"type\\\\\\\\\\\\\": 2, \\\\\\\\\\\\\"details\\\\\\\\\\\\\": {\\\\\\\\\\\\\"selectedColumn\\\\\\\\\\\\\": \\\\\\\\\\\\\"WorkingWoman\\\\\\\\\\\\\"}}, \\\\\\\\\\\\\"typeProperty\\\\\\\\\\\\\": 3}, {\\\\\\\\\\\\\"column\\\\\\\\\\\\\": {\\\\\\\\\\\\\"type\\\\\\\\\\\\\": 2, \\\\\\\\\\\\\"details\\\\\\\\\\\\\": {\\\\\\\\\\\\\"selectedColumn\\\\\\\\\\\\\": \\\\\\\\\\\\\"SSTRDIST\\\\\\\\\\\\\"}}, \\\\\\\\\\\\\"typeProperty\\\\\\\\\\\\\": 3}, {\\\\\\\\\\\\\"column\\\\\\\\\\\\\": {\\\\\\\\\\\\\"type\\\\\\\\\\\\\": 2, \\\\\\\\\\\\\"details\\\\\\\\\\\\\": {\\\\\\\\\\\\\"selectedColumn\\\\\\\\\\\\\": \\\\\\\\\\\\\"SSTRVOL\\\\\\\\\\\\\"}}, \\\\\\\\\\\\\"typeProperty\\\\\\\\\\\\\": 3}, {\\\\\\\\\\\\\"column\\\\\\\\\\\\\": {\\\\\\\\\\\\\"type\\\\\\\\\\\\\": 2, \\\\\\\\\\\\\"details\\\\\\\\\\\\\": {\\\\\\\\\\\\\"selectedColumn\\\\\\\\\\\\\": \\\\\\\\\\\\\"CPDIST5\\\\\\\\\\\\\"}}, \\\\\\\\\\\\\"typeProperty\\\\\\\\\\\\\": 3}, {\\\\\\\\\\\\\"column\\\\\\\\\\\\\": {\\\\\\\\\\\\\"type\\\\\\\\\\\\\": 2, \\\\\\\\\\\\\"details\\\\\\\\\\\\\": {\\\\\\\\\\\\\"selectedColumn\\\\\\\\\\\\\": \\\\\\\\\\\\\"CPWVOL5\\\\\\\\\\\\\"}}, \\\\\\\\\\\\\"typeProperty\\\\\\\\\\\\\": 3}]}, \\\\\\\\\\\\\"localData\\\\\\\\\\\\\": {}, \\\\\\\\\\\\\"isEnabled\\\\\\\\\\\\\": true, \\\\\\\\\\\\\"name\\\\\\\\\\\\\": null, \\\\\\\\\\\\\"annotation\\\\\\\\\\\\\": null}], \\\\\\\\\\\\\"inspectors\\\\\\\\\\\\\": [], \\\\\\\\\\\\\"meta\\\\\\\\\\\\\": {\\\\\\\\\\\\\"savedDatasetId\\\\\\\\\\\\\": \\\\\\\\\\\\\"7ac2edb4-09cc-47c4-8997-6b113b54364a\\\\\\\\\\\\\", \\\\\\\\\\\\\"datasetType\\\\\\\\\\\\\": \\\\\\\\\\\\\"tabular\\\\\\\\\\\\\", \\\\\\\\\\\\\"subscriptionId\\\\\\\\\\\\\": \\\\\\\\\\\\\"f0e66588-3d18-4097-84a3-23ca7fd53b26\\\\\\\\\\\\\", \\\\\\\\\\\\\"workspaceId\\\\\\\\\\\\\": \\\\\\\\\\\\\"bc117e3e-d3e7-447e-bd5b-f2deaec712f8\\\\\\\\\\\\\", \\\\\\\\\\\\\"workspaceLocation\\\\\\\\\\\\\": \\\\\\\\\\\\\"japaneast\\\\\\\\\\\\\"}}\\\\\", \\\\\"activities\\\\\": 0}',\n",
       "  'EnableSubsampling': 'False',\n",
       "  'runTemplate': 'AutoML',\n",
       "  'azureml.runsource': 'automl',\n",
       "  'display_task_type': 'forecasting',\n",
       "  'dependencies_versions': '{\"azureml-widgets\": \"1.0.83\", \"azureml-train\": \"1.0.83\", \"azureml-train-restclients-hyperdrive\": \"1.0.83\", \"azureml-train-core\": \"1.0.83\", \"azureml-train-automl\": \"1.0.83\", \"azureml-train-automl-runtime\": \"1.0.83.1\", \"azureml-train-automl-client\": \"1.0.83\", \"azureml-tensorboard\": \"1.0.83\", \"azureml-telemetry\": \"1.0.83\", \"azureml-sdk\": \"1.0.83\", \"azureml-samples\": \"0+unknown\", \"azureml-pipeline\": \"1.0.83\", \"azureml-pipeline-steps\": \"1.0.83\", \"azureml-pipeline-core\": \"1.0.83\", \"azureml-opendatasets\": \"1.0.83\", \"azureml-model-management-sdk\": \"1.0.1b6.post1\", \"azureml-mlflow\": \"1.0.83\", \"azureml-interpret\": \"1.0.83\", \"azureml-explain-model\": \"1.0.83\", \"azureml-defaults\": \"1.0.83\", \"azureml-dataprep\": \"1.1.35\", \"azureml-dataprep-native\": \"13.2.0\", \"azureml-datadrift\": \"1.0.83\", \"azureml-core\": \"1.0.83\", \"azureml-contrib-services\": \"1.0.83\", \"azureml-contrib-server\": \"1.0.83\", \"azureml-contrib-reinforcementlearning\": \"1.0.83\", \"azureml-contrib-pipeline-steps\": \"1.0.83\", \"azureml-contrib-notebook\": \"1.0.83\", \"azureml-contrib-interpret\": \"1.0.83\", \"azureml-contrib-datadrift\": \"1.0.83\", \"azureml-automl-runtime\": \"1.0.83\", \"azureml-automl-core\": \"1.0.83.1\"}',\n",
       "  'ClientType': 'SDK',\n",
       "  'ClientSdkVersion': '1.0.83',\n",
       "  'environment_cpu_name': '',\n",
       "  'environment_cpu_version': '',\n",
       "  'environment_gpu_name': '',\n",
       "  'environment_gpu_version': '',\n",
       "  'snapshotId': '',\n",
       "  'SetupRunId': 'AutoML_80fc5bdc-3cf6-4921-9e7b-688080cf1f78_setup',\n",
       "  'SetupRunContainerId': 'dcid.AutoML_80fc5bdc-3cf6-4921-9e7b-688080cf1f78_setup',\n",
       "  'ProblemInfoJsonString': '{\"dataset_num_categorical\": 0, \"is_sparse\": false, \"subsampling\": false, \"dataset_classes\": 401, \"dataset_features\": 34, \"dataset_samples\": 852, \"single_frequency_class_detected\": false}'},\n",
       " 'inputDatasets': [{'dataset': {'id': '7ac2edb4-09cc-47c4-8997-6b113b54364a'}, 'consumptionDetails': {'type': 'RunInput', 'inputName': 'training_data', 'mechanism': 'Direct'}}],\n",
       " 'logFiles': {}}"
      ]
     },
     "execution_count": 20,
     "metadata": {},
     "output_type": "execute_result"
    }
   ],
   "source": [
    "remote_run.wait_for_completion()"
   ]
  },
  {
   "cell_type": "code",
   "execution_count": 21,
   "metadata": {},
   "outputs": [
    {
     "data": {
      "application/vnd.jupyter.widget-view+json": {
       "model_id": "207d30d3abb9405682dea350bf293bf8",
       "version_major": 2,
       "version_minor": 0
      },
      "text/plain": [
       "_AutoMLWidget(widget_settings={'childWidgetDisplay': 'popup', 'send_telemetry': False, 'log_level': 'INFO', 's…"
      ]
     },
     "metadata": {},
     "output_type": "display_data"
    },
    {
     "data": {
      "application/aml.mini.widget.v1": "{\"status\": \"Completed\", \"workbench_run_details_uri\": \"https://ml.azure.com/experiments/automl-ojforecasting/runs/AutoML_80fc5bdc-3cf6-4921-9e7b-688080cf1f78?wsid=/subscriptions/f0e66588-3d18-4097-84a3-23ca7fd53b26/resourcegroups/docs-aml/workspaces/docs-ws\", \"run_id\": \"AutoML_80fc5bdc-3cf6-4921-9e7b-688080cf1f78\", \"run_properties\": {\"run_id\": \"AutoML_80fc5bdc-3cf6-4921-9e7b-688080cf1f78\", \"created_utc\": \"2020-03-20T09:44:49.364768Z\", \"properties\": {\"num_iterations\": \"20\", \"training_type\": \"TrainFull\", \"acquisition_function\": \"EI\", \"primary_metric\": \"normalized_mean_absolute_error\", \"train_split\": \"0\", \"acquisition_parameter\": \"0\", \"num_cross_validation\": \"3\", \"target\": \"cpu-cluster-oj\", \"RawAMLSettingsString\": \"{'name': 'automl-ojforecasting', 'path': None, 'subscription_id': 'f0e66588-3d18-4097-84a3-23ca7fd53b26', 'resource_group': 'docs-aml', 'workspace_name': 'docs-ws', 'region': 'japaneast', 'compute_target': 'cpu-cluster-oj', 'spark_service': None, 'azure_service': None, 'iterations': 20, 'primary_metric': 'normalized_mean_absolute_error', 'task_type': 'regression', 'data_script': None, 'validation_size': 0.0, 'n_cross_validations': 3, 'y_min': None, 'y_max': None, 'num_classes': None, 'featurization': 'off', 'preprocess': False, 'lag_length': 0, 'is_timeseries': True, 'max_cores_per_iteration': 1, 'max_concurrent_iterations': 6, 'iteration_timeout_minutes': None, 'mem_in_mb': None, 'enforce_time_on_windows': False, 'experiment_timeout_minutes': 15, 'experiment_exit_score': None, 'whitelist_models': None, 'blacklist_algos': ['XGBoostRegressor', 'Prophet'], 'supported_models': ['LassoLars', 'LightGBM', 'ExtremeRandomTrees', 'FastLinearRegressor', 'DecisionTree', 'GradientBoosting', 'TensorFlowLinearRegressor', 'TCNForecaster', 'TensorFlowDNN', 'SGD', 'ElasticNet', 'KNN', 'RandomForest', 'OnlineGradientDescentRegressor', 'AutoArima', 'XGBoostRegressor', 'Prophet'], 'auto_blacklist': True, 'blacklist_samples_reached': False, 'exclude_nan_labels': True, 'verbosity': 20, 'debug_log': 'azureml_automl.log', 'show_warnings': False, 'model_explainability': False, 'service_url': None, 'sdk_url': None, 'sdk_packages': None, 'enable_onnx_compatible_models': False, 'enable_split_onnx_featurizer_estimator_models': False, 'vm_type': 'STANDARD_D2_V2', 'telemetry_verbosity': 'INFO', 'send_telemetry': True, 'enable_dnn': False, 'force_text_dnn': False, 'enable_feature_sweeping': False, 'time_column_name': 'WeekStarting', 'grain_column_names': ['Store', 'Brand'], 'drop_column_names': ['logQuantity'], 'max_horizon': 20, 'dropna': False, 'overwrite_columns': True, 'transform_dictionary': {'min': '_automl_target_col', 'max': '_automl_target_col', 'mean': '_automl_target_col'}, 'window_size': None, 'country_or_region': None, 'lags': None, 'seasonality': -1, 'use_stl': None, 'short_series_handling': True, 'enable_early_stopping': True, 'early_stopping_n_iters': 10, 'metrics': None, 'enable_ensembling': True, 'enable_stack_ensembling': True, 'ensemble_iterations': 15, 'enable_tf': False, 'enable_cache': True, 'enable_subsampling': False, 'subsample_seed': None, 'enable_nimbusml': False, 'enable_streaming': False, 'label_column_name': 'Quantity', 'weight_column_name': None, 'cost_mode': 0, 'metric_operation': 'minimize'}\", \"AMLSettingsJsonString\": \"{\\\"name\\\": \\\"automl-ojforecasting\\\", \\\"path\\\": null, \\\"subscription_id\\\": \\\"f0e66588-3d18-4097-84a3-23ca7fd53b26\\\", \\\"resource_group\\\": \\\"docs-aml\\\", \\\"workspace_name\\\": \\\"docs-ws\\\", \\\"region\\\": \\\"japaneast\\\", \\\"compute_target\\\": \\\"cpu-cluster-oj\\\", \\\"spark_service\\\": null, \\\"azure_service\\\": null, \\\"iterations\\\": 20, \\\"primary_metric\\\": \\\"normalized_mean_absolute_error\\\", \\\"task_type\\\": \\\"regression\\\", \\\"data_script\\\": null, \\\"validation_size\\\": 0.0, \\\"n_cross_validations\\\": 3, \\\"y_min\\\": null, \\\"y_max\\\": null, \\\"num_classes\\\": null, \\\"featurization\\\": \\\"off\\\", \\\"preprocess\\\": false, \\\"lag_length\\\": 0, \\\"is_timeseries\\\": true, \\\"max_cores_per_iteration\\\": 1, \\\"max_concurrent_iterations\\\": 6, \\\"iteration_timeout_minutes\\\": null, \\\"mem_in_mb\\\": null, \\\"enforce_time_on_windows\\\": false, \\\"experiment_timeout_minutes\\\": 15, \\\"experiment_exit_score\\\": null, \\\"whitelist_models\\\": null, \\\"blacklist_algos\\\": [\\\"XGBoostRegressor\\\", \\\"Prophet\\\"], \\\"supported_models\\\": [\\\"LassoLars\\\", \\\"LightGBM\\\", \\\"ExtremeRandomTrees\\\", \\\"FastLinearRegressor\\\", \\\"DecisionTree\\\", \\\"GradientBoosting\\\", \\\"TensorFlowLinearRegressor\\\", \\\"TCNForecaster\\\", \\\"TensorFlowDNN\\\", \\\"SGD\\\", \\\"ElasticNet\\\", \\\"KNN\\\", \\\"RandomForest\\\", \\\"OnlineGradientDescentRegressor\\\", \\\"AutoArima\\\", \\\"XGBoostRegressor\\\", \\\"Prophet\\\"], \\\"auto_blacklist\\\": true, \\\"blacklist_samples_reached\\\": false, \\\"exclude_nan_labels\\\": true, \\\"verbosity\\\": 20, \\\"debug_log\\\": \\\"azureml_automl.log\\\", \\\"show_warnings\\\": false, \\\"model_explainability\\\": false, \\\"service_url\\\": null, \\\"sdk_url\\\": null, \\\"sdk_packages\\\": null, \\\"enable_onnx_compatible_models\\\": false, \\\"enable_split_onnx_featurizer_estimator_models\\\": false, \\\"vm_type\\\": \\\"STANDARD_D2_V2\\\", \\\"telemetry_verbosity\\\": \\\"INFO\\\", \\\"send_telemetry\\\": true, \\\"enable_dnn\\\": false, \\\"force_text_dnn\\\": false, \\\"enable_feature_sweeping\\\": false, \\\"time_column_name\\\": \\\"WeekStarting\\\", \\\"grain_column_names\\\": [\\\"Store\\\", \\\"Brand\\\"], \\\"drop_column_names\\\": [\\\"logQuantity\\\"], \\\"max_horizon\\\": 20, \\\"dropna\\\": false, \\\"overwrite_columns\\\": true, \\\"transform_dictionary\\\": {\\\"min\\\": \\\"_automl_target_col\\\", \\\"max\\\": \\\"_automl_target_col\\\", \\\"mean\\\": \\\"_automl_target_col\\\"}, \\\"window_size\\\": null, \\\"country_or_region\\\": null, \\\"lags\\\": null, \\\"seasonality\\\": -1, \\\"use_stl\\\": null, \\\"short_series_handling\\\": true, \\\"enable_early_stopping\\\": true, \\\"early_stopping_n_iters\\\": 10, \\\"metrics\\\": null, \\\"enable_ensembling\\\": true, \\\"enable_stack_ensembling\\\": true, \\\"ensemble_iterations\\\": 15, \\\"enable_tf\\\": false, \\\"enable_cache\\\": true, \\\"enable_subsampling\\\": false, \\\"subsample_seed\\\": null, \\\"enable_nimbusml\\\": false, \\\"enable_streaming\\\": false, \\\"label_column_name\\\": \\\"Quantity\\\", \\\"weight_column_name\\\": null, \\\"cost_mode\\\": 0, \\\"metric_operation\\\": \\\"minimize\\\"}\", \"DataPrepJsonString\": \"{\\\\\\\"training_data\\\\\\\": \\\\\\\"{\\\\\\\\\\\\\\\"blocks\\\\\\\\\\\\\\\": [{\\\\\\\\\\\\\\\"id\\\\\\\\\\\\\\\": \\\\\\\\\\\\\\\"f0d2e7e5-17e5-4db9-bd78-c812552023ac\\\\\\\\\\\\\\\", \\\\\\\\\\\\\\\"type\\\\\\\\\\\\\\\": \\\\\\\\\\\\\\\"Microsoft.DPrep.GetDatastoreFilesBlock\\\\\\\\\\\\\\\", \\\\\\\\\\\\\\\"arguments\\\\\\\\\\\\\\\": {\\\\\\\\\\\\\\\"datastores\\\\\\\\\\\\\\\": [{\\\\\\\\\\\\\\\"datastoreName\\\\\\\\\\\\\\\": \\\\\\\\\\\\\\\"workspaceblobstore\\\\\\\\\\\\\\\", \\\\\\\\\\\\\\\"path\\\\\\\\\\\\\\\": \\\\\\\\\\\\\\\"dataset/dominicks_OJ_train.csv\\\\\\\\\\\\\\\", \\\\\\\\\\\\\\\"resourceGroup\\\\\\\\\\\\\\\": \\\\\\\\\\\\\\\"docs-aml\\\\\\\\\\\\\\\", \\\\\\\\\\\\\\\"subscription\\\\\\\\\\\\\\\": \\\\\\\\\\\\\\\"f0e66588-3d18-4097-84a3-23ca7fd53b26\\\\\\\\\\\\\\\", \\\\\\\\\\\\\\\"workspaceName\\\\\\\\\\\\\\\": \\\\\\\\\\\\\\\"docs-ws\\\\\\\\\\\\\\\"}]}, \\\\\\\\\\\\\\\"localData\\\\\\\\\\\\\\\": {}, \\\\\\\\\\\\\\\"isEnabled\\\\\\\\\\\\\\\": true, \\\\\\\\\\\\\\\"name\\\\\\\\\\\\\\\": null, \\\\\\\\\\\\\\\"annotation\\\\\\\\\\\\\\\": null}, {\\\\\\\\\\\\\\\"id\\\\\\\\\\\\\\\": \\\\\\\\\\\\\\\"91c99f94-bd3b-450a-bf54-ae64718c295e\\\\\\\\\\\\\\\", \\\\\\\\\\\\\\\"type\\\\\\\\\\\\\\\": \\\\\\\\\\\\\\\"Microsoft.DPrep.ParseDelimitedBlock\\\\\\\\\\\\\\\", \\\\\\\\\\\\\\\"arguments\\\\\\\\\\\\\\\": {\\\\\\\\\\\\\\\"columnHeadersMode\\\\\\\\\\\\\\\": 3, \\\\\\\\\\\\\\\"fileEncoding\\\\\\\\\\\\\\\": 0, \\\\\\\\\\\\\\\"handleQuotedLineBreaks\\\\\\\\\\\\\\\": false, \\\\\\\\\\\\\\\"preview\\\\\\\\\\\\\\\": false, \\\\\\\\\\\\\\\"separator\\\\\\\\\\\\\\\": \\\\\\\\\\\\\\\",\\\\\\\\\\\\\\\", \\\\\\\\\\\\\\\"skipRows\\\\\\\\\\\\\\\": 0, \\\\\\\\\\\\\\\"skipRowsMode\\\\\\\\\\\\\\\": 0}, \\\\\\\\\\\\\\\"localData\\\\\\\\\\\\\\\": {}, \\\\\\\\\\\\\\\"isEnabled\\\\\\\\\\\\\\\": true, \\\\\\\\\\\\\\\"name\\\\\\\\\\\\\\\": null, \\\\\\\\\\\\\\\"annotation\\\\\\\\\\\\\\\": null}, {\\\\\\\\\\\\\\\"id\\\\\\\\\\\\\\\": \\\\\\\\\\\\\\\"43116875-9f15-45f9-b9bf-afebeab9b0aa\\\\\\\\\\\\\\\", \\\\\\\\\\\\\\\"type\\\\\\\\\\\\\\\": \\\\\\\\\\\\\\\"Microsoft.DPrep.DropColumnsBlock\\\\\\\\\\\\\\\", \\\\\\\\\\\\\\\"arguments\\\\\\\\\\\\\\\": {\\\\\\\\\\\\\\\"columns\\\\\\\\\\\\\\\": {\\\\\\\\\\\\\\\"type\\\\\\\\\\\\\\\": 0, \\\\\\\\\\\\\\\"details\\\\\\\\\\\\\\\": {\\\\\\\\\\\\\\\"selectedColumns\\\\\\\\\\\\\\\": [\\\\\\\\\\\\\\\"Path\\\\\\\\\\\\\\\"]}}}, \\\\\\\\\\\\\\\"localData\\\\\\\\\\\\\\\": {}, \\\\\\\\\\\\\\\"isEnabled\\\\\\\\\\\\\\\": true, \\\\\\\\\\\\\\\"name\\\\\\\\\\\\\\\": null, \\\\\\\\\\\\\\\"annotation\\\\\\\\\\\\\\\": null}, {\\\\\\\\\\\\\\\"id\\\\\\\\\\\\\\\": \\\\\\\\\\\\\\\"4851172c-bc1f-42be-8e9b-7de0292cd38b\\\\\\\\\\\\\\\", \\\\\\\\\\\\\\\"type\\\\\\\\\\\\\\\": \\\\\\\\\\\\\\\"Microsoft.DPrep.SetColumnTypesBlock\\\\\\\\\\\\\\\", \\\\\\\\\\\\\\\"arguments\\\\\\\\\\\\\\\": {\\\\\\\\\\\\\\\"columnConversion\\\\\\\\\\\\\\\": [{\\\\\\\\\\\\\\\"column\\\\\\\\\\\\\\\": {\\\\\\\\\\\\\\\"type\\\\\\\\\\\\\\\": 2, \\\\\\\\\\\\\\\"details\\\\\\\\\\\\\\\": {\\\\\\\\\\\\\\\"selectedColumn\\\\\\\\\\\\\\\": \\\\\\\\\\\\\\\"WeekStarting\\\\\\\\\\\\\\\"}}, \\\\\\\\\\\\\\\"typeArguments\\\\\\\\\\\\\\\": {\\\\\\\\\\\\\\\"dateTimeFormats\\\\\\\\\\\\\\\": [\\\\\\\\\\\\\\\"%Y-%m-%d\\\\\\\\\\\\\\\"]}, \\\\\\\\\\\\\\\"typeProperty\\\\\\\\\\\\\\\": 4}, {\\\\\\\\\\\\\\\"column\\\\\\\\\\\\\\\": {\\\\\\\\\\\\\\\"type\\\\\\\\\\\\\\\": 2, \\\\\\\\\\\\\\\"details\\\\\\\\\\\\\\\": {\\\\\\\\\\\\\\\"selectedColumn\\\\\\\\\\\\\\\": \\\\\\\\\\\\\\\"Store\\\\\\\\\\\\\\\"}}, \\\\\\\\\\\\\\\"typeProperty\\\\\\\\\\\\\\\": 2}, {\\\\\\\\\\\\\\\"column\\\\\\\\\\\\\\\": {\\\\\\\\\\\\\\\"type\\\\\\\\\\\\\\\": 2, \\\\\\\\\\\\\\\"details\\\\\\\\\\\\\\\": {\\\\\\\\\\\\\\\"selectedColumn\\\\\\\\\\\\\\\": \\\\\\\\\\\\\\\"Brand\\\\\\\\\\\\\\\"}}, \\\\\\\\\\\\\\\"typeProperty\\\\\\\\\\\\\\\": 0}, {\\\\\\\\\\\\\\\"column\\\\\\\\\\\\\\\": {\\\\\\\\\\\\\\\"type\\\\\\\\\\\\\\\": 2, \\\\\\\\\\\\\\\"details\\\\\\\\\\\\\\\": {\\\\\\\\\\\\\\\"selectedColumn\\\\\\\\\\\\\\\": \\\\\\\\\\\\\\\"Quantity\\\\\\\\\\\\\\\"}}, \\\\\\\\\\\\\\\"typeProperty\\\\\\\\\\\\\\\": 2}, {\\\\\\\\\\\\\\\"column\\\\\\\\\\\\\\\": {\\\\\\\\\\\\\\\"type\\\\\\\\\\\\\\\": 2, \\\\\\\\\\\\\\\"details\\\\\\\\\\\\\\\": {\\\\\\\\\\\\\\\"selectedColumn\\\\\\\\\\\\\\\": \\\\\\\\\\\\\\\"logQuantity\\\\\\\\\\\\\\\"}}, \\\\\\\\\\\\\\\"typeProperty\\\\\\\\\\\\\\\": 3}, {\\\\\\\\\\\\\\\"column\\\\\\\\\\\\\\\": {\\\\\\\\\\\\\\\"type\\\\\\\\\\\\\\\": 2, \\\\\\\\\\\\\\\"details\\\\\\\\\\\\\\\": {\\\\\\\\\\\\\\\"selectedColumn\\\\\\\\\\\\\\\": \\\\\\\\\\\\\\\"Advert\\\\\\\\\\\\\\\"}}, \\\\\\\\\\\\\\\"typeProperty\\\\\\\\\\\\\\\": 2}, {\\\\\\\\\\\\\\\"column\\\\\\\\\\\\\\\": {\\\\\\\\\\\\\\\"type\\\\\\\\\\\\\\\": 2, \\\\\\\\\\\\\\\"details\\\\\\\\\\\\\\\": {\\\\\\\\\\\\\\\"selectedColumn\\\\\\\\\\\\\\\": \\\\\\\\\\\\\\\"Price\\\\\\\\\\\\\\\"}}, \\\\\\\\\\\\\\\"typeProperty\\\\\\\\\\\\\\\": 3}, {\\\\\\\\\\\\\\\"column\\\\\\\\\\\\\\\": {\\\\\\\\\\\\\\\"type\\\\\\\\\\\\\\\": 2, \\\\\\\\\\\\\\\"details\\\\\\\\\\\\\\\": {\\\\\\\\\\\\\\\"selectedColumn\\\\\\\\\\\\\\\": \\\\\\\\\\\\\\\"Age60\\\\\\\\\\\\\\\"}}, \\\\\\\\\\\\\\\"typeProperty\\\\\\\\\\\\\\\": 3}, {\\\\\\\\\\\\\\\"column\\\\\\\\\\\\\\\": {\\\\\\\\\\\\\\\"type\\\\\\\\\\\\\\\": 2, \\\\\\\\\\\\\\\"details\\\\\\\\\\\\\\\": {\\\\\\\\\\\\\\\"selectedColumn\\\\\\\\\\\\\\\": \\\\\\\\\\\\\\\"COLLEGE\\\\\\\\\\\\\\\"}}, \\\\\\\\\\\\\\\"typeProperty\\\\\\\\\\\\\\\": 3}, {\\\\\\\\\\\\\\\"column\\\\\\\\\\\\\\\": {\\\\\\\\\\\\\\\"type\\\\\\\\\\\\\\\": 2, \\\\\\\\\\\\\\\"details\\\\\\\\\\\\\\\": {\\\\\\\\\\\\\\\"selectedColumn\\\\\\\\\\\\\\\": \\\\\\\\\\\\\\\"INCOME\\\\\\\\\\\\\\\"}}, \\\\\\\\\\\\\\\"typeProperty\\\\\\\\\\\\\\\": 3}, {\\\\\\\\\\\\\\\"column\\\\\\\\\\\\\\\": {\\\\\\\\\\\\\\\"type\\\\\\\\\\\\\\\": 2, \\\\\\\\\\\\\\\"details\\\\\\\\\\\\\\\": {\\\\\\\\\\\\\\\"selectedColumn\\\\\\\\\\\\\\\": \\\\\\\\\\\\\\\"Hincome150\\\\\\\\\\\\\\\"}}, \\\\\\\\\\\\\\\"typeProperty\\\\\\\\\\\\\\\": 3}, {\\\\\\\\\\\\\\\"column\\\\\\\\\\\\\\\": {\\\\\\\\\\\\\\\"type\\\\\\\\\\\\\\\": 2, \\\\\\\\\\\\\\\"details\\\\\\\\\\\\\\\": {\\\\\\\\\\\\\\\"selectedColumn\\\\\\\\\\\\\\\": \\\\\\\\\\\\\\\"Large HH\\\\\\\\\\\\\\\"}}, \\\\\\\\\\\\\\\"typeProperty\\\\\\\\\\\\\\\": 3}, {\\\\\\\\\\\\\\\"column\\\\\\\\\\\\\\\": {\\\\\\\\\\\\\\\"type\\\\\\\\\\\\\\\": 2, \\\\\\\\\\\\\\\"details\\\\\\\\\\\\\\\": {\\\\\\\\\\\\\\\"selectedColumn\\\\\\\\\\\\\\\": \\\\\\\\\\\\\\\"Minorities\\\\\\\\\\\\\\\"}}, \\\\\\\\\\\\\\\"typeProperty\\\\\\\\\\\\\\\": 3}, {\\\\\\\\\\\\\\\"column\\\\\\\\\\\\\\\": {\\\\\\\\\\\\\\\"type\\\\\\\\\\\\\\\": 2, \\\\\\\\\\\\\\\"details\\\\\\\\\\\\\\\": {\\\\\\\\\\\\\\\"selectedColumn\\\\\\\\\\\\\\\": \\\\\\\\\\\\\\\"WorkingWoman\\\\\\\\\\\\\\\"}}, \\\\\\\\\\\\\\\"typeProperty\\\\\\\\\\\\\\\": 3}, {\\\\\\\\\\\\\\\"column\\\\\\\\\\\\\\\": {\\\\\\\\\\\\\\\"type\\\\\\\\\\\\\\\": 2, \\\\\\\\\\\\\\\"details\\\\\\\\\\\\\\\": {\\\\\\\\\\\\\\\"selectedColumn\\\\\\\\\\\\\\\": \\\\\\\\\\\\\\\"SSTRDIST\\\\\\\\\\\\\\\"}}, \\\\\\\\\\\\\\\"typeProperty\\\\\\\\\\\\\\\": 3}, {\\\\\\\\\\\\\\\"column\\\\\\\\\\\\\\\": {\\\\\\\\\\\\\\\"type\\\\\\\\\\\\\\\": 2, \\\\\\\\\\\\\\\"details\\\\\\\\\\\\\\\": {\\\\\\\\\\\\\\\"selectedColumn\\\\\\\\\\\\\\\": \\\\\\\\\\\\\\\"SSTRVOL\\\\\\\\\\\\\\\"}}, \\\\\\\\\\\\\\\"typeProperty\\\\\\\\\\\\\\\": 3}, {\\\\\\\\\\\\\\\"column\\\\\\\\\\\\\\\": {\\\\\\\\\\\\\\\"type\\\\\\\\\\\\\\\": 2, \\\\\\\\\\\\\\\"details\\\\\\\\\\\\\\\": {\\\\\\\\\\\\\\\"selectedColumn\\\\\\\\\\\\\\\": \\\\\\\\\\\\\\\"CPDIST5\\\\\\\\\\\\\\\"}}, \\\\\\\\\\\\\\\"typeProperty\\\\\\\\\\\\\\\": 3}, {\\\\\\\\\\\\\\\"column\\\\\\\\\\\\\\\": {\\\\\\\\\\\\\\\"type\\\\\\\\\\\\\\\": 2, \\\\\\\\\\\\\\\"details\\\\\\\\\\\\\\\": {\\\\\\\\\\\\\\\"selectedColumn\\\\\\\\\\\\\\\": \\\\\\\\\\\\\\\"CPWVOL5\\\\\\\\\\\\\\\"}}, \\\\\\\\\\\\\\\"typeProperty\\\\\\\\\\\\\\\": 3}]}, \\\\\\\\\\\\\\\"localData\\\\\\\\\\\\\\\": {}, \\\\\\\\\\\\\\\"isEnabled\\\\\\\\\\\\\\\": true, \\\\\\\\\\\\\\\"name\\\\\\\\\\\\\\\": null, \\\\\\\\\\\\\\\"annotation\\\\\\\\\\\\\\\": null}], \\\\\\\\\\\\\\\"inspectors\\\\\\\\\\\\\\\": [], \\\\\\\\\\\\\\\"meta\\\\\\\\\\\\\\\": {\\\\\\\\\\\\\\\"savedDatasetId\\\\\\\\\\\\\\\": \\\\\\\\\\\\\\\"7ac2edb4-09cc-47c4-8997-6b113b54364a\\\\\\\\\\\\\\\", \\\\\\\\\\\\\\\"datasetType\\\\\\\\\\\\\\\": \\\\\\\\\\\\\\\"tabular\\\\\\\\\\\\\\\", \\\\\\\\\\\\\\\"subscriptionId\\\\\\\\\\\\\\\": \\\\\\\\\\\\\\\"f0e66588-3d18-4097-84a3-23ca7fd53b26\\\\\\\\\\\\\\\", \\\\\\\\\\\\\\\"workspaceId\\\\\\\\\\\\\\\": \\\\\\\\\\\\\\\"bc117e3e-d3e7-447e-bd5b-f2deaec712f8\\\\\\\\\\\\\\\", \\\\\\\\\\\\\\\"workspaceLocation\\\\\\\\\\\\\\\": \\\\\\\\\\\\\\\"japaneast\\\\\\\\\\\\\\\"}}\\\\\\\", \\\\\\\"activities\\\\\\\": 0}\", \"EnableSubsampling\": \"False\", \"runTemplate\": \"AutoML\", \"azureml.runsource\": \"automl\", \"display_task_type\": \"forecasting\", \"dependencies_versions\": \"{\\\"azureml-widgets\\\": \\\"1.0.83\\\", \\\"azureml-train\\\": \\\"1.0.83\\\", \\\"azureml-train-restclients-hyperdrive\\\": \\\"1.0.83\\\", \\\"azureml-train-core\\\": \\\"1.0.83\\\", \\\"azureml-train-automl\\\": \\\"1.0.83\\\", \\\"azureml-train-automl-runtime\\\": \\\"1.0.83.1\\\", \\\"azureml-train-automl-client\\\": \\\"1.0.83\\\", \\\"azureml-tensorboard\\\": \\\"1.0.83\\\", \\\"azureml-telemetry\\\": \\\"1.0.83\\\", \\\"azureml-sdk\\\": \\\"1.0.83\\\", \\\"azureml-samples\\\": \\\"0+unknown\\\", \\\"azureml-pipeline\\\": \\\"1.0.83\\\", \\\"azureml-pipeline-steps\\\": \\\"1.0.83\\\", \\\"azureml-pipeline-core\\\": \\\"1.0.83\\\", \\\"azureml-opendatasets\\\": \\\"1.0.83\\\", \\\"azureml-model-management-sdk\\\": \\\"1.0.1b6.post1\\\", \\\"azureml-mlflow\\\": \\\"1.0.83\\\", \\\"azureml-interpret\\\": \\\"1.0.83\\\", \\\"azureml-explain-model\\\": \\\"1.0.83\\\", \\\"azureml-defaults\\\": \\\"1.0.83\\\", \\\"azureml-dataprep\\\": \\\"1.1.35\\\", \\\"azureml-dataprep-native\\\": \\\"13.2.0\\\", \\\"azureml-datadrift\\\": \\\"1.0.83\\\", \\\"azureml-core\\\": \\\"1.0.83\\\", \\\"azureml-contrib-services\\\": \\\"1.0.83\\\", \\\"azureml-contrib-server\\\": \\\"1.0.83\\\", \\\"azureml-contrib-reinforcementlearning\\\": \\\"1.0.83\\\", \\\"azureml-contrib-pipeline-steps\\\": \\\"1.0.83\\\", \\\"azureml-contrib-notebook\\\": \\\"1.0.83\\\", \\\"azureml-contrib-interpret\\\": \\\"1.0.83\\\", \\\"azureml-contrib-datadrift\\\": \\\"1.0.83\\\", \\\"azureml-automl-runtime\\\": \\\"1.0.83\\\", \\\"azureml-automl-core\\\": \\\"1.0.83.1\\\"}\", \"ClientType\": \"SDK\", \"ClientSdkVersion\": \"1.0.83\", \"environment_cpu_name\": \"\", \"environment_cpu_version\": \"\", \"environment_gpu_name\": \"\", \"environment_gpu_version\": \"\", \"snapshotId\": \"\", \"SetupRunId\": \"AutoML_80fc5bdc-3cf6-4921-9e7b-688080cf1f78_setup\", \"SetupRunContainerId\": \"dcid.AutoML_80fc5bdc-3cf6-4921-9e7b-688080cf1f78_setup\", \"ProblemInfoJsonString\": \"{\\\"dataset_num_categorical\\\": 0, \\\"is_sparse\\\": false, \\\"subsampling\\\": false, \\\"dataset_classes\\\": 401, \\\"dataset_features\\\": 34, \\\"dataset_samples\\\": 852, \\\"single_frequency_class_detected\\\": false}\"}, \"tags\": {\"model_explain_run\": \"best_run\", \"experiment_status\": \"ModelSelection\", \"experiment_status_descr\": \"Beginning model selection.\", \"pipeline_id\": \"<de3445ac68915bee3def0e782598fca2a6ef9547>;<fdcc98506cac91f581e9b6cec9f9daa482221f29>;<__AutoML_AutoArima__>;<54a3e3a0b1b340b23f8cb7a6a15da82ad61c04d0>;<eab9aabedd9e12cce841846f250ee210ad2290b2>;<32df138275f39f2b0ba907646396aa556f989aa2>;<27bf379a8fc61c64b2e3f9d60dd133c5527b7ba4>;<302ab9b5f4892da5065b24b53522a11fd5e06d39>;<ce257b3e718ab3188a5fd3ca4c51af1e3e2416cf>;<c28359893107cd72007043a44ae8364eb9c4613d>;<ac4a25e38c9f58e635ec2e5322f24428f025854b>;<9dbd8e66846f5c4eff36051905511f974098462e>;<0a7ee6d660a81ba37cbc1fc311bac22edfe07b71>;<016caddc0b2cc2c989c825bc1b94838803adb54f>;<7a9dcd6149da900dde64e743e062f83a6505ec3b>;<6790d1ec2cdcbe41054b4a4234a26f3446c322cb>;<5b4a11489f6d5da6be5a0b56ba04544bad057064>;<4b8cd7ecde55492cf90f7ce465dfbb16193e0907>;<__AutoML_Ensemble__>;<__AutoML_Stack_Ensemble__>;\", \"score\": \"<0.0365753632525858>;<0.0363140197429066>;<NaN>;<0.0351602419090738>;<0.0349778539010314>;<0.0349654018034457>;<0.0344383646045004>;<0.036885271570551>;<0.0294144203023735>;<0.029405110950104>;<0.0317068411755951>;<0.0344432051094184>;<0.0325617175372343>;<0.0315235054947523>;<0.0352107552206892>;<0.0281063049882056>;<0.0344368435673767>;<0.035026310181153>;<0.0269833682205438>;<0.0291169902494563>;\", \"predicted_cost\": \"<0.5>;<0.5>;<0>;<0.00991348443994899>;<0.5>;<0.5>;<0.5>;<0.01078>;<0.00990856589196115>;<0.0207727744161808>;<0.0536790856113148>;<0.0385408537579804>;<0.0144643631165782>;<0.0486769553513605>;<0.0165143262790854>;<0.038674544535037>;<0.0143799037817635>;<0.0176276823308488>;<0>;<0>;\", \"fit_time\": \"<0.01078>;<0.008967>;<NaN>;<0.172464333333333>;<0.0384326666666667>;<0.058121>;<0.0300666666666667>;<0.0112946666666667>;<0.0226543333333333>;<0.00735833333333333>;<0.0752156666666667>;<0.0328186666666667>;<0.008>;<0.0404286666666667>;<0.0165923333333333>;<0.0261906666666667>;<0.0289773333333333>;<0.0392803333333333>;<8>;<7>;\", \"training_percent\": \"<100>;<100>;<0>;<100>;<100>;<100>;<100>;<100>;<100>;<100>;<100>;<100>;<100>;<100>;<100>;<100>;<100>;<100>;<100>;<100>;\", \"iteration\": \"<3>;<1>;<0>;<7>;<4>;<2>;<5>;<6>;<8>;<9>;<10>;<12>;<11>;<13>;<14>;<15>;<16>;<17>;<18>;<19>;\", \"run_preprocessor\": \"<StandardScalerWrapper>;<StandardScalerWrapper>;<>;<StandardScalerWrapper>;<StandardScalerWrapper>;<StandardScalerWrapper>;<StandardScalerWrapper>;<StandardScalerWrapper>;<StandardScalerWrapper>;<StandardScalerWrapper>;<MinMaxScaler>;<RobustScaler>;<MinMaxScaler>;<MaxAbsScaler>;<StandardScalerWrapper>;<MinMaxScaler>;<StandardScalerWrapper>;<StandardScalerWrapper>;<>;<>;\", \"run_algorithm\": \"<ElasticNet>;<ElasticNet>;<AutoArima>;<RandomForest>;<ElasticNet>;<ElasticNet>;<LassoLars>;<ElasticNet>;<ExtremeRandomTrees>;<DecisionTree>;<GradientBoosting>;<LassoLars>;<DecisionTree>;<LightGBM>;<ElasticNet>;<RandomForest>;<LassoLars>;<ElasticNet>;<VotingEnsemble>;<StackEnsemble>;\"}, \"end_time_utc\": \"2020-03-20T10:07:59.33594Z\", \"status\": \"Completed\", \"log_files\": {}, \"log_groups\": [], \"run_duration\": \"0:23:09\"}, \"child_runs\": [{\"run_id\": \"AutoML_80fc5bdc-3cf6-4921-9e7b-688080cf1f78_0\", \"run_number\": 70, \"metric\": null, \"status\": \"Failed\", \"run_type\": \"azureml.scriptrun\", \"training_percent\": null, \"start_time\": \"2020-03-20T09:56:58.257213Z\", \"end_time\": \"2020-03-20T09:57:53.640293Z\", \"created_time\": \"2020-03-20T09:53:24.067138Z\", \"created_time_dt\": \"2020-03-20T09:53:24.067138Z\", \"duration\": \"0:04:29\", \"iteration\": \"0\", \"goal\": \"normalized_mean_absolute_error_min\", \"run_name\": \"AutoArima\", \"run_properties\": \"\"}, {\"run_id\": \"AutoML_80fc5bdc-3cf6-4921-9e7b-688080cf1f78_4\", \"run_number\": 71, \"metric\": null, \"status\": \"Completed\", \"run_type\": \"azureml.scriptrun\", \"training_percent\": \"100\", \"start_time\": \"2020-03-20T09:57:19.605122Z\", \"end_time\": \"2020-03-20T10:00:56.011699Z\", \"created_time\": \"2020-03-20T09:53:24.349352Z\", \"created_time_dt\": \"2020-03-20T09:53:24.349352Z\", \"duration\": \"0:07:31\", \"iteration\": \"4\", \"goal\": \"normalized_mean_absolute_error_min\", \"run_name\": \"StandardScalerWrapper, ElasticNet\", \"run_properties\": \"<automl.client.core.runtime.model_wrappers.StandardScalerWrapper object at 0x7fae12aab240\", \"primary_metric\": 0.03497785, \"best_metric\": 0.0349654}, {\"run_id\": \"AutoML_80fc5bdc-3cf6-4921-9e7b-688080cf1f78_1\", \"run_number\": 72, \"metric\": null, \"status\": \"Completed\", \"run_type\": \"azureml.scriptrun\", \"training_percent\": \"100\", \"start_time\": \"2020-03-20T09:55:25.797599Z\", \"end_time\": \"2020-03-20T09:56:57.160031Z\", \"created_time\": \"2020-03-20T09:53:24.363392Z\", \"created_time_dt\": \"2020-03-20T09:53:24.363392Z\", \"duration\": \"0:03:32\", \"iteration\": \"1\", \"goal\": \"normalized_mean_absolute_error_min\", \"run_name\": \"StandardScalerWrapper, ElasticNet\", \"run_properties\": \"<automl.client.core.runtime.model_wrappers.StandardScalerWrapper object at 0x7fa26abe18d0\", \"primary_metric\": 0.03631402, \"best_metric\": 0.03631402}, {\"run_id\": \"AutoML_80fc5bdc-3cf6-4921-9e7b-688080cf1f78_2\", \"run_number\": 73, \"metric\": null, \"status\": \"Completed\", \"run_type\": \"azureml.scriptrun\", \"training_percent\": \"100\", \"start_time\": \"2020-03-20T09:57:08.650565Z\", \"end_time\": \"2020-03-20T10:00:56.083849Z\", \"created_time\": \"2020-03-20T09:53:24.372598Z\", \"created_time_dt\": \"2020-03-20T09:53:24.372598Z\", \"duration\": \"0:07:31\", \"iteration\": \"2\", \"goal\": \"normalized_mean_absolute_error_min\", \"run_name\": \"StandardScalerWrapper, ElasticNet\", \"run_properties\": \"<automl.client.core.runtime.model_wrappers.StandardScalerWrapper object at 0x7fbb50b88198\", \"primary_metric\": 0.0349654, \"best_metric\": 0.0349654}, {\"run_id\": \"AutoML_80fc5bdc-3cf6-4921-9e7b-688080cf1f78_3\", \"run_number\": 74, \"metric\": null, \"status\": \"Completed\", \"run_type\": \"azureml.scriptrun\", \"training_percent\": \"100\", \"start_time\": \"2020-03-20T09:53:56.895542Z\", \"end_time\": \"2020-03-20T09:55:24.743987Z\", \"created_time\": \"2020-03-20T09:53:24.465022Z\", \"created_time_dt\": \"2020-03-20T09:53:24.465022Z\", \"duration\": \"0:02:00\", \"iteration\": \"3\", \"goal\": \"normalized_mean_absolute_error_min\", \"run_name\": \"StandardScalerWrapper, ElasticNet\", \"run_properties\": \"<automl.client.core.runtime.model_wrappers.StandardScalerWrapper object at 0x7fecf2642908\", \"primary_metric\": 0.03657536, \"best_metric\": 0.0349654}, {\"run_id\": \"AutoML_80fc5bdc-3cf6-4921-9e7b-688080cf1f78_5\", \"run_number\": 75, \"metric\": null, \"status\": \"Completed\", \"run_type\": \"azureml.scriptrun\", \"training_percent\": \"100\", \"start_time\": \"2020-03-20T09:57:23.271979Z\", \"end_time\": \"2020-03-20T10:00:54.368912Z\", \"created_time\": \"2020-03-20T09:53:24.342718Z\", \"created_time_dt\": \"2020-03-20T09:53:24.342718Z\", \"duration\": \"0:07:30\", \"iteration\": \"5\", \"goal\": \"normalized_mean_absolute_error_min\", \"run_name\": \"StandardScalerWrapper, LassoLars\", \"run_properties\": \"<automl.client.core.runtime.model_wrappers.StandardScalerWrapper object at 0x7f0fb92965f8\", \"primary_metric\": 0.03443836, \"best_metric\": 0.03443836}, {\"run_id\": \"AutoML_80fc5bdc-3cf6-4921-9e7b-688080cf1f78_6\", \"run_number\": 76, \"metric\": null, \"status\": \"Completed\", \"run_type\": \"azureml.scriptrun\", \"training_percent\": \"100\", \"start_time\": \"2020-03-20T09:57:20.957299Z\", \"end_time\": \"2020-03-20T10:01:03.485741Z\", \"created_time\": \"2020-03-20T09:55:31.564268Z\", \"created_time_dt\": \"2020-03-20T09:55:31.564268Z\", \"duration\": \"0:05:31\", \"iteration\": \"6\", \"goal\": \"normalized_mean_absolute_error_min\", \"run_name\": \"StandardScalerWrapper, ElasticNet\", \"run_properties\": \"<automl.client.core.runtime.model_wrappers.StandardScalerWrapper object at 0x7ff9f3ce4860\", \"primary_metric\": 0.03688527, \"best_metric\": 0.03443836}, {\"run_id\": \"AutoML_80fc5bdc-3cf6-4921-9e7b-688080cf1f78_7\", \"run_number\": 77, \"metric\": null, \"status\": \"Completed\", \"run_type\": \"azureml.scriptrun\", \"training_percent\": \"100\", \"start_time\": \"2020-03-20T09:57:54.166033Z\", \"end_time\": \"2020-03-20T09:59:31.156082Z\", \"created_time\": \"2020-03-20T09:57:08.140423Z\", \"created_time_dt\": \"2020-03-20T09:57:08.140423Z\", \"duration\": \"0:02:23\", \"iteration\": \"7\", \"goal\": \"normalized_mean_absolute_error_min\", \"run_name\": \"StandardScalerWrapper, RandomForest\", \"run_properties\": \"<automl.client.core.runtime.model_wrappers.StandardScalerWrapper object at 0x7febf02e7550\", \"primary_metric\": 0.03516024, \"best_metric\": 0.03443836}, {\"run_id\": \"AutoML_80fc5bdc-3cf6-4921-9e7b-688080cf1f78_8\", \"run_number\": 78, \"metric\": null, \"status\": \"Completed\", \"run_type\": \"azureml.scriptrun\", \"training_percent\": \"100\", \"start_time\": \"2020-03-20T09:59:33.046855Z\", \"end_time\": \"2020-03-20T10:01:03.082249Z\", \"created_time\": \"2020-03-20T09:57:58.926021Z\", \"created_time_dt\": \"2020-03-20T09:57:58.926021Z\", \"duration\": \"0:03:04\", \"iteration\": \"8\", \"goal\": \"normalized_mean_absolute_error_min\", \"run_name\": \"StandardScalerWrapper, ExtremeRandomTrees\", \"run_properties\": \"<automl.client.core.runtime.model_wrappers.StandardScalerWrapper object at 0x7f5230d0b390\", \"primary_metric\": 0.02941442, \"best_metric\": 0.02941442}, {\"run_id\": \"AutoML_80fc5bdc-3cf6-4921-9e7b-688080cf1f78_9\", \"run_number\": 79, \"metric\": null, \"status\": \"Completed\", \"run_type\": \"azureml.scriptrun\", \"training_percent\": \"100\", \"start_time\": \"2020-03-20T10:00:54.235334Z\", \"end_time\": \"2020-03-20T10:02:27.760189Z\", \"created_time\": \"2020-03-20T09:59:34.874742Z\", \"created_time_dt\": \"2020-03-20T09:59:34.874742Z\", \"duration\": \"0:02:52\", \"iteration\": \"9\", \"goal\": \"normalized_mean_absolute_error_min\", \"run_name\": \"StandardScalerWrapper, DecisionTree\", \"run_properties\": \"<automl.client.core.runtime.model_wrappers.StandardScalerWrapper object at 0x7ff575d67c18\", \"primary_metric\": 0.02940511, \"best_metric\": 0.02940511}, {\"run_id\": \"AutoML_80fc5bdc-3cf6-4921-9e7b-688080cf1f78_10\", \"run_number\": 80, \"metric\": null, \"status\": \"Completed\", \"run_type\": \"azureml.scriptrun\", \"training_percent\": \"100\", \"start_time\": \"2020-03-20T10:01:37.026375Z\", \"end_time\": \"2020-03-20T10:03:02.617611Z\", \"created_time\": \"2020-03-20T10:01:04.691756Z\", \"created_time_dt\": \"2020-03-20T10:01:04.691756Z\", \"duration\": \"0:01:57\", \"iteration\": \"10\", \"goal\": \"normalized_mean_absolute_error_min\", \"run_name\": \"MinMaxScaler, GradientBoosting\", \"run_properties\": \"copy=True, feature_range=(0, 1\", \"primary_metric\": 0.03170684, \"best_metric\": 0.02940511}, {\"run_id\": \"AutoML_80fc5bdc-3cf6-4921-9e7b-688080cf1f78_12\", \"run_number\": 81, \"metric\": null, \"status\": \"Completed\", \"run_type\": \"azureml.scriptrun\", \"training_percent\": \"100\", \"start_time\": \"2020-03-20T10:01:38.527786Z\", \"end_time\": \"2020-03-20T10:03:03.587677Z\", \"created_time\": \"2020-03-20T10:01:04.713801Z\", \"created_time_dt\": \"2020-03-20T10:01:04.713801Z\", \"duration\": \"0:01:58\", \"iteration\": \"12\", \"goal\": \"normalized_mean_absolute_error_min\", \"run_name\": \"RobustScaler, LassoLars\", \"run_properties\": \"copy=True, quantile_range=[10, 90], with_centering=False,\\n       with_scaling=False\", \"primary_metric\": 0.03444321, \"best_metric\": 0.02940511}, {\"run_id\": \"AutoML_80fc5bdc-3cf6-4921-9e7b-688080cf1f78_11\", \"run_number\": 82, \"metric\": null, \"status\": \"Completed\", \"run_type\": \"azureml.scriptrun\", \"training_percent\": \"100\", \"start_time\": \"2020-03-20T10:01:36.96044Z\", \"end_time\": \"2020-03-20T10:03:01.345353Z\", \"created_time\": \"2020-03-20T10:01:04.727748Z\", \"created_time_dt\": \"2020-03-20T10:01:04.727748Z\", \"duration\": \"0:01:56\", \"iteration\": \"11\", \"goal\": \"normalized_mean_absolute_error_min\", \"run_name\": \"MinMaxScaler, DecisionTree\", \"run_properties\": \"copy=True, feature_range=(0, 1\", \"primary_metric\": 0.03256172, \"best_metric\": 0.02940511}, {\"run_id\": \"AutoML_80fc5bdc-3cf6-4921-9e7b-688080cf1f78_13\", \"run_number\": 83, \"metric\": null, \"status\": \"Completed\", \"run_type\": \"azureml.scriptrun\", \"training_percent\": \"100\", \"start_time\": \"2020-03-20T10:02:09.281888Z\", \"end_time\": \"2020-03-20T10:03:37.335775Z\", \"created_time\": \"2020-03-20T10:01:37.148792Z\", \"created_time_dt\": \"2020-03-20T10:01:37.148792Z\", \"duration\": \"0:02:00\", \"iteration\": \"13\", \"goal\": \"normalized_mean_absolute_error_min\", \"run_name\": \"MaxAbsScaler, LightGBM\", \"run_properties\": \"copy=True\", \"primary_metric\": 0.03152351, \"best_metric\": 0.02940511}, {\"run_id\": \"AutoML_80fc5bdc-3cf6-4921-9e7b-688080cf1f78_14\", \"run_number\": 84, \"metric\": null, \"status\": \"Completed\", \"run_type\": \"azureml.scriptrun\", \"training_percent\": \"100\", \"start_time\": \"2020-03-20T10:02:09.438532Z\", \"end_time\": \"2020-03-20T10:05:35.52671Z\", \"created_time\": \"2020-03-20T10:01:37.221859Z\", \"created_time_dt\": \"2020-03-20T10:01:37.221859Z\", \"duration\": \"0:03:58\", \"iteration\": \"14\", \"goal\": \"normalized_mean_absolute_error_min\", \"run_name\": \"StandardScalerWrapper, ElasticNet\", \"run_properties\": \"<automl.client.core.runtime.model_wrappers.StandardScalerWrapper object at 0x7fcc92bfd1d0\", \"primary_metric\": 0.03521076, \"best_metric\": 0.02940511}, {\"run_id\": \"AutoML_80fc5bdc-3cf6-4921-9e7b-688080cf1f78_15\", \"run_number\": 85, \"metric\": null, \"status\": \"Completed\", \"run_type\": \"azureml.scriptrun\", \"training_percent\": \"100\", \"start_time\": \"2020-03-20T10:03:05.827397Z\", \"end_time\": \"2020-03-20T10:04:33.04915Z\", \"created_time\": \"2020-03-20T10:02:32.067963Z\", \"created_time_dt\": \"2020-03-20T10:02:32.067963Z\", \"duration\": \"0:02:00\", \"iteration\": \"15\", \"goal\": \"normalized_mean_absolute_error_min\", \"run_name\": \"MinMaxScaler, RandomForest\", \"run_properties\": \"copy=True, feature_range=(0, 1\", \"primary_metric\": 0.0281063, \"best_metric\": 0.0281063}, {\"run_id\": \"AutoML_80fc5bdc-3cf6-4921-9e7b-688080cf1f78_16\", \"run_number\": 86, \"metric\": null, \"status\": \"Completed\", \"run_type\": \"azureml.scriptrun\", \"training_percent\": \"100\", \"start_time\": \"2020-03-20T10:03:40.003013Z\", \"end_time\": \"2020-03-20T10:05:09.022892Z\", \"created_time\": \"2020-03-20T10:03:06.774233Z\", \"created_time_dt\": \"2020-03-20T10:03:06.774233Z\", \"duration\": \"0:02:02\", \"iteration\": \"16\", \"goal\": \"normalized_mean_absolute_error_min\", \"run_name\": \"StandardScalerWrapper, LassoLars\", \"run_properties\": \"<automl.client.core.runtime.model_wrappers.StandardScalerWrapper object at 0x7fe8587f5710\", \"primary_metric\": 0.03443684, \"best_metric\": 0.0281063}, {\"run_id\": \"AutoML_80fc5bdc-3cf6-4921-9e7b-688080cf1f78_17\", \"run_number\": 87, \"metric\": null, \"status\": \"Completed\", \"run_type\": \"azureml.scriptrun\", \"training_percent\": \"100\", \"start_time\": \"2020-03-20T10:03:39.57444Z\", \"end_time\": \"2020-03-20T10:05:12.326822Z\", \"created_time\": \"2020-03-20T10:03:06.891633Z\", \"created_time_dt\": \"2020-03-20T10:03:06.891633Z\", \"duration\": \"0:02:05\", \"iteration\": \"17\", \"goal\": \"normalized_mean_absolute_error_min\", \"run_name\": \"StandardScalerWrapper, ElasticNet\", \"run_properties\": \"<automl.client.core.runtime.model_wrappers.StandardScalerWrapper object at 0x7fafe833e320\", \"primary_metric\": 0.03502631, \"best_metric\": 0.0281063}, {\"run_id\": \"AutoML_80fc5bdc-3cf6-4921-9e7b-688080cf1f78_18\", \"run_number\": 88, \"metric\": null, \"status\": \"Completed\", \"run_type\": \"azureml.scriptrun\", \"training_percent\": \"100\", \"start_time\": \"2020-03-20T10:06:13.612178Z\", \"end_time\": \"2020-03-20T10:07:54.566574Z\", \"created_time\": \"2020-03-20T10:05:39.868425Z\", \"created_time_dt\": \"2020-03-20T10:05:39.868425Z\", \"duration\": \"0:02:14\", \"iteration\": \"18\", \"goal\": \"normalized_mean_absolute_error_min\", \"run_name\": \"VotingEnsemble\", \"run_properties\": \"estimators=[('15', Pipeline(memory=None,\\n     steps=[('minmaxscaler', MinMaxScaler(copy=True, feature_range=(0, 1\", \"primary_metric\": 0.02698337, \"best_metric\": 0.02698337}, {\"run_id\": \"AutoML_80fc5bdc-3cf6-4921-9e7b-688080cf1f78_19\", \"run_number\": 89, \"metric\": null, \"status\": \"Completed\", \"run_type\": \"azureml.scriptrun\", \"training_percent\": \"100\", \"start_time\": \"2020-03-20T10:06:13.59343Z\", \"end_time\": \"2020-03-20T10:07:46.623331Z\", \"created_time\": \"2020-03-20T10:05:40.013724Z\", \"created_time_dt\": \"2020-03-20T10:05:40.013724Z\", \"duration\": \"0:02:06\", \"iteration\": \"19\", \"goal\": \"normalized_mean_absolute_error_min\", \"run_name\": \"StackEnsemble\", \"run_properties\": \"base_learners=[('15', Pipeline(memory=None,\\n     steps=[('minmaxscaler', MinMaxScaler(copy=True, feature_range=(0, 1\", \"primary_metric\": 0.02911699, \"best_metric\": 0.02698337}], \"children_metrics\": {\"categories\": [0], \"series\": {\"normalized_root_mean_squared_error\": [{\"categories\": [\"1\", \"2\", \"3\", \"4\", \"5\", \"6\", \"7\", \"8\", \"9\", \"10\", \"11\", \"12\", \"13\", \"14\", \"15\", \"16\", \"17\", \"18\", \"19\"], \"mode\": \"markers\", \"name\": \"normalized_root_mean_squared_error\", \"stepped\": false, \"type\": \"scatter\", \"data\": [0.06336391678254365, 0.06344032791052667, 0.06351188338257324, 0.06310352735134167, 0.06374371309416779, 0.06328727350046681, 0.06453828231080076, 0.05963040433238465, 0.06369872755489316, 0.06810589088954322, 0.06667440033160216, 0.0637766203574396, 0.05993412938104949, 0.06298006106388654, 0.056719890500535254, 0.06372683304640404, 0.06355545059960165, 0.05755907986668363, 0.05690574245282795]}, {\"categories\": [\"1\", \"2\", \"3\", \"4\", \"5\", \"6\", \"7\", \"8\", \"9\", \"10\", \"11\", \"12\", \"13\", \"14\", \"15\", \"16\", \"17\", \"18\", \"19\"], \"mode\": \"lines\", \"name\": \"normalized_root_mean_squared_error_min\", \"stepped\": true, \"type\": \"scatter\", \"data\": [0.06336391678254365, 0.06336391678254365, 0.06336391678254365, 0.06310352735134167, 0.06310352735134167, 0.06310352735134167, 0.06310352735134167, 0.05963040433238465, 0.05963040433238465, 0.05963040433238465, 0.05963040433238465, 0.05963040433238465, 0.05963040433238465, 0.05963040433238465, 0.056719890500535254, 0.056719890500535254, 0.056719890500535254, 0.056719890500535254, 0.056719890500535254]}], \"explained_variance\": [{\"categories\": [\"1\", \"2\", \"3\", \"4\", \"5\", \"6\", \"7\", \"8\", \"9\", \"10\", \"11\", \"12\", \"13\", \"14\", \"15\", \"16\", \"17\", \"18\", \"19\"], \"mode\": \"markers\", \"name\": \"explained_variance\", \"stepped\": false, \"type\": \"scatter\", \"data\": [0.2969560666778733, 0.28678582323495877, 0.29411281944754236, 0.2958671978806724, 0.2811547898214351, 0.3007355635745649, 0.2629503745025222, 0.3694571314208641, 0.29334678579967255, 0.2117033462553463, 0.2212989412324512, 0.28053318991103754, 0.3698278313575716, 0.30118412204040407, 0.43520034628417054, 0.28147227315157014, 0.2842264805551263, 0.42167802195339704, 0.4271548878135165]}, {\"categories\": [\"1\", \"2\", \"3\", \"4\", \"5\", \"6\", \"7\", \"8\", \"9\", \"10\", \"11\", \"12\", \"13\", \"14\", \"15\", \"16\", \"17\", \"18\", \"19\"], \"mode\": \"lines\", \"name\": \"explained_variance_max\", \"stepped\": true, \"type\": \"scatter\", \"data\": [0.2969560666778733, 0.2969560666778733, 0.2969560666778733, 0.2969560666778733, 0.2969560666778733, 0.3007355635745649, 0.3007355635745649, 0.3694571314208641, 0.3694571314208641, 0.3694571314208641, 0.3694571314208641, 0.3694571314208641, 0.3698278313575716, 0.3698278313575716, 0.43520034628417054, 0.43520034628417054, 0.43520034628417054, 0.43520034628417054, 0.43520034628417054]}], \"r2_score\": [{\"categories\": [\"1\", \"2\", \"3\", \"4\", \"5\", \"6\", \"7\", \"8\", \"9\", \"10\", \"11\", \"12\", \"13\", \"14\", \"15\", \"16\", \"17\", \"18\", \"19\"], \"mode\": \"markers\", \"name\": \"r2_score\", \"stepped\": false, \"type\": \"scatter\", \"data\": [0.28830018662615703, 0.2865782114671966, 0.28497270852400586, 0.2941330463505623, 0.2797396237876317, 0.2900176226969809, 0.2616483833097545, 0.3685290055975483, 0.2805733572407417, 0.17766106348981955, 0.20682029755304007, 0.278995837004487, 0.363208904137372, 0.29689143713209576, 0.42956581164412366, 0.28012100348856034, 0.2839861485745186, 0.4126666018643103, 0.4254374322482775]}, {\"categories\": [\"1\", \"2\", \"3\", \"4\", \"5\", \"6\", \"7\", \"8\", \"9\", \"10\", \"11\", \"12\", \"13\", \"14\", \"15\", \"16\", \"17\", \"18\", \"19\"], \"mode\": \"lines\", \"name\": \"r2_score_max\", \"stepped\": true, \"type\": \"scatter\", \"data\": [0.28830018662615703, 0.28830018662615703, 0.28830018662615703, 0.2941330463505623, 0.2941330463505623, 0.2941330463505623, 0.2941330463505623, 0.3685290055975483, 0.3685290055975483, 0.3685290055975483, 0.3685290055975483, 0.3685290055975483, 0.3685290055975483, 0.3685290055975483, 0.42956581164412366, 0.42956581164412366, 0.42956581164412366, 0.42956581164412366, 0.42956581164412366]}], \"median_absolute_error\": [{\"categories\": [\"1\", \"2\", \"3\", \"4\", \"5\", \"6\", \"7\", \"8\", \"9\", \"10\", \"11\", \"12\", \"13\", \"14\", \"15\", \"16\", \"17\", \"18\", \"19\"], \"mode\": \"markers\", \"name\": \"median_absolute_error\", \"stepped\": false, \"type\": \"scatter\", \"data\": [8490.236787503445, 6504.12527635352, 8476.759652026076, 6816.486748261998, 6333.359684014606, 8667.757807570693, 7080.763183423286, 4632.294885361552, 4288.825396825397, 4721.542014809988, 4726.704761904762, 6255.744490883623, 5131.246700263114, 6891.25895525065, 4685.559124100301, 6354.980954804458, 6479.988185487557, 4206.50159629763, 4905.193217251493]}, {\"categories\": [\"1\", \"2\", \"3\", \"4\", \"5\", \"6\", \"7\", \"8\", \"9\", \"10\", \"11\", \"12\", \"13\", \"14\", \"15\", \"16\", \"17\", \"18\", \"19\"], \"mode\": \"lines\", \"name\": \"median_absolute_error_min\", \"stepped\": true, \"type\": \"scatter\", \"data\": [8490.236787503445, 6504.12527635352, 6504.12527635352, 6504.12527635352, 6333.359684014606, 6333.359684014606, 6333.359684014606, 4632.294885361552, 4288.825396825397, 4288.825396825397, 4288.825396825397, 4288.825396825397, 4288.825396825397, 4288.825396825397, 4288.825396825397, 4288.825396825397, 4288.825396825397, 4206.50159629763, 4206.50159629763]}], \"mean_absolute_percentage_error\": [{\"categories\": [\"1\", \"2\", \"3\", \"4\", \"5\", \"6\", \"7\", \"8\", \"9\", \"10\", \"11\", \"12\", \"13\", \"14\", \"15\", \"16\", \"17\", \"18\", \"19\"], \"mode\": \"markers\", \"name\": \"mean_absolute_percentage_error\", \"stepped\": false, \"type\": \"scatter\", \"data\": [105.72291734997138, 84.12309483120488, 107.56713828715988, 86.95089309602729, 80.00556692117668, 105.45838538419139, 91.0880165359326, 64.62953344783541, 55.55535813479315, 68.55904952836762, 61.725734683889385, 79.94159388382087, 69.03881642829214, 90.61570023245987, 59.589099745494686, 80.04313016802212, 83.66169077739552, 57.40320730317569, 67.2699777393548]}, {\"categories\": [\"1\", \"2\", \"3\", \"4\", \"5\", \"6\", \"7\", \"8\", \"9\", \"10\", \"11\", \"12\", \"13\", \"14\", \"15\", \"16\", \"17\", \"18\", \"19\"], \"mode\": \"lines\", \"name\": \"mean_absolute_percentage_error_min\", \"stepped\": true, \"type\": \"scatter\", \"data\": [105.72291734997138, 84.12309483120488, 84.12309483120488, 84.12309483120488, 80.00556692117668, 80.00556692117668, 80.00556692117668, 64.62953344783541, 55.55535813479315, 55.55535813479315, 55.55535813479315, 55.55535813479315, 55.55535813479315, 55.55535813479315, 55.55535813479315, 55.55535813479315, 55.55535813479315, 55.55535813479315, 55.55535813479315]}], \"spearman_correlation\": [{\"categories\": [\"1\", \"2\", \"3\", \"4\", \"5\", \"6\", \"7\", \"8\", \"9\", \"10\", \"11\", \"12\", \"13\", \"14\", \"15\", \"16\", \"17\", \"18\", \"19\"], \"mode\": \"markers\", \"name\": \"spearman_correlation\", \"stepped\": false, \"type\": \"scatter\", \"data\": [0.6550091564552954, 0.6726645002246191, 0.6548678588458295, 0.6683384610862019, 0.713745413381791, 0.6321559801976128, 0.5797477947662687, 0.6735657936420599, 0.6450950938504145, 0.6029078496636446, 0.579981473056396, 0.7143569029141345, 0.5807682281492598, 0.6624824975550868, 0.6916705465034966, 0.7122878530663007, 0.6736155156308112, 0.7067930224956246, 0.7005574063312393]}, {\"categories\": [\"1\", \"2\", \"3\", \"4\", \"5\", \"6\", \"7\", \"8\", \"9\", \"10\", \"11\", \"12\", \"13\", \"14\", \"15\", \"16\", \"17\", \"18\", \"19\"], \"mode\": \"lines\", \"name\": \"spearman_correlation_max\", \"stepped\": true, \"type\": \"scatter\", \"data\": [0.6550091564552954, 0.6726645002246191, 0.6726645002246191, 0.6726645002246191, 0.713745413381791, 0.713745413381791, 0.713745413381791, 0.713745413381791, 0.713745413381791, 0.713745413381791, 0.713745413381791, 0.7143569029141345, 0.7143569029141345, 0.7143569029141345, 0.7143569029141345, 0.7143569029141345, 0.7143569029141345, 0.7143569029141345, 0.7143569029141345]}], \"root_mean_squared_error\": [{\"categories\": [\"1\", \"2\", \"3\", \"4\", \"5\", \"6\", \"7\", \"8\", \"9\", \"10\", \"11\", \"12\", \"13\", \"14\", \"15\", \"16\", \"17\", \"18\", \"19\"], \"mode\": \"markers\", \"name\": \"root_mean_squared_error\", \"stepped\": false, \"type\": \"scatter\", \"data\": [21233.501969497505, 21259.10764412913, 21283.086169033824, 21146.244429543996, 21360.773232708005, 21207.818499100427, 21627.03655547858, 19982.38701339943, 21345.69839855492, 22822.556460649488, 22342.858248721208, 21371.80058825944, 20084.166492107208, 21104.870382752637, 19007.06218629137, 21355.116661182186, 21297.685717728906, 19288.27789964515, 19069.341918912458]}, {\"categories\": [\"1\", \"2\", \"3\", \"4\", \"5\", \"6\", \"7\", \"8\", \"9\", \"10\", \"11\", \"12\", \"13\", \"14\", \"15\", \"16\", \"17\", \"18\", \"19\"], \"mode\": \"lines\", \"name\": \"root_mean_squared_error_min\", \"stepped\": true, \"type\": \"scatter\", \"data\": [21233.501969497505, 21233.501969497505, 21233.501969497505, 21146.244429543996, 21146.244429543996, 21146.244429543996, 21146.244429543996, 19982.38701339943, 19982.38701339943, 19982.38701339943, 19982.38701339943, 19982.38701339943, 19982.38701339943, 19982.38701339943, 19007.06218629137, 19007.06218629137, 19007.06218629137, 19007.06218629137, 19007.06218629137]}], \"normalized_mean_absolute_error\": [{\"categories\": [\"1\", \"2\", \"3\", \"4\", \"5\", \"6\", \"7\", \"8\", \"9\", \"10\", \"11\", \"12\", \"13\", \"14\", \"15\", \"16\", \"17\", \"18\", \"19\"], \"mode\": \"markers\", \"name\": \"normalized_mean_absolute_error\", \"stepped\": false, \"type\": \"scatter\", \"data\": [0.036314019742906635, 0.03496540180344568, 0.03657536325258582, 0.03497785390103136, 0.03443836460450041, 0.03688527157055099, 0.03516024190907379, 0.029414420302373515, 0.029405110950103952, 0.03170684117559507, 0.032561717537234254, 0.034443205109418375, 0.03152350549475232, 0.03521075522068922, 0.02810630498820561, 0.034436843567376654, 0.035026310181152966, 0.02698336822054383, 0.029116990249456253]}, {\"categories\": [\"1\", \"2\", \"3\", \"4\", \"5\", \"6\", \"7\", \"8\", \"9\", \"10\", \"11\", \"12\", \"13\", \"14\", \"15\", \"16\", \"17\", \"18\", \"19\"], \"mode\": \"lines\", \"name\": \"normalized_mean_absolute_error_min\", \"stepped\": true, \"type\": \"scatter\", \"data\": [0.036314019742906635, 0.03496540180344568, 0.03496540180344568, 0.03496540180344568, 0.03443836460450041, 0.03443836460450041, 0.03443836460450041, 0.029414420302373515, 0.029405110950103952, 0.029405110950103952, 0.029405110950103952, 0.029405110950103952, 0.029405110950103952, 0.029405110950103952, 0.02810630498820561, 0.02810630498820561, 0.02810630498820561, 0.02698336822054383, 0.02698336822054383]}], \"normalized_root_mean_squared_log_error\": [{\"categories\": [\"1\", \"2\", \"3\", \"4\", \"5\", \"6\", \"7\", \"8\", \"9\", \"10\", \"11\", \"12\", \"13\", \"14\", \"15\", \"16\", \"17\", \"18\", \"19\"], \"mode\": \"markers\", \"name\": \"normalized_root_mean_squared_log_error\", \"stepped\": false, \"type\": \"scatter\", \"data\": [0.12790056489987886, NaN, 0.12888129001851423, 0.12935882596969478, NaN, 0.12771027995093628, 0.12282929730196696, 0.10538650577515946, 0.10634263862550619, 0.1126076439335069, 0.1148378119223233, NaN, 0.12834914482606305, 0.12446554353743478, 0.10112380840631234, NaN, NaN, 0.09878275375364087, 0.10398810179437436]}, {\"categories\": [\"1\", \"2\", \"3\", \"4\", \"5\", \"6\", \"7\", \"8\", \"9\", \"10\", \"11\", \"12\", \"13\", \"14\", \"15\", \"16\", \"17\", \"18\", \"19\"], \"mode\": \"lines\", \"name\": \"normalized_root_mean_squared_log_error_min\", \"stepped\": true, \"type\": \"scatter\", \"data\": [0.12790056489987886, 0.12790056489987886, 0.12790056489987886, 0.12790056489987886, 0.12790056489987886, 0.12771027995093628, 0.12282929730196696, 0.10538650577515946, 0.10538650577515946, 0.10538650577515946, 0.10538650577515946, 0.10538650577515946, 0.10538650577515946, 0.10538650577515946, 0.10112380840631234, 0.10112380840631234, 0.10112380840631234, 0.09878275375364087, 0.09878275375364087]}], \"normalized_median_absolute_error\": [{\"categories\": [\"1\", \"2\", \"3\", \"4\", \"5\", \"6\", \"7\", \"8\", \"9\", \"10\", \"11\", \"12\", \"13\", \"14\", \"15\", \"16\", \"17\", \"18\", \"19\"], \"mode\": \"markers\", \"name\": \"normalized_median_absolute_error\", \"stepped\": false, \"type\": \"scatter\", \"data\": [0.02533612486721569, 0.01940927376681126, 0.0252959070975759, 0.020341406692435778, 0.01889968393100233, 0.02586587390055235, 0.02113004674197648, 0.01382345446596147, 0.012798490608364558, 0.014089781127082902, 0.014105187529557276, 0.01866806869176024, 0.015312400628649954, 0.02056453803968514, 0.01398240284837036, 0.01896420500741399, 0.019337245110436035, 0.012552824186812543, 0.014637823533146403]}, {\"categories\": [\"1\", \"2\", \"3\", \"4\", \"5\", \"6\", \"7\", \"8\", \"9\", \"10\", \"11\", \"12\", \"13\", \"14\", \"15\", \"16\", \"17\", \"18\", \"19\"], \"mode\": \"lines\", \"name\": \"normalized_median_absolute_error_min\", \"stepped\": true, \"type\": \"scatter\", \"data\": [0.02533612486721569, 0.01940927376681126, 0.01940927376681126, 0.01940927376681126, 0.01889968393100233, 0.01889968393100233, 0.01889968393100233, 0.01382345446596147, 0.012798490608364558, 0.012798490608364558, 0.012798490608364558, 0.012798490608364558, 0.012798490608364558, 0.012798490608364558, 0.012798490608364558, 0.012798490608364558, 0.012798490608364558, 0.012552824186812543, 0.012552824186812543]}], \"mean_absolute_error\": [{\"categories\": [\"1\", \"2\", \"3\", \"4\", \"5\", \"6\", \"7\", \"8\", \"9\", \"10\", \"11\", \"12\", \"13\", \"14\", \"15\", \"16\", \"17\", \"18\", \"19\"], \"mode\": \"markers\", \"name\": \"mean_absolute_error\", \"stepped\": false, \"type\": \"scatter\", \"data\": [12168.973271926983, 11717.046005941862, 12256.550527394518, 11721.218753651212, 11540.433732426505, 12360.402044377917, 11782.337704698264, 9856.889901006572, 9853.770299823633, 10625.089305306612, 10911.56179359735, 11542.055804986534, 10563.652785313483, 11799.264917473842, 9418.535226767652, 11539.924026802184, 11737.456646945086, 9042.23462417712, 9757.219900553786]}, {\"categories\": [\"1\", \"2\", \"3\", \"4\", \"5\", \"6\", \"7\", \"8\", \"9\", \"10\", \"11\", \"12\", \"13\", \"14\", \"15\", \"16\", \"17\", \"18\", \"19\"], \"mode\": \"lines\", \"name\": \"mean_absolute_error_min\", \"stepped\": true, \"type\": \"scatter\", \"data\": [12168.973271926983, 11717.046005941862, 11717.046005941862, 11717.046005941862, 11540.433732426505, 11540.433732426505, 11540.433732426505, 9856.889901006572, 9853.770299823633, 9853.770299823633, 9853.770299823633, 9853.770299823633, 9853.770299823633, 9853.770299823633, 9418.535226767652, 9418.535226767652, 9418.535226767652, 9042.23462417712, 9042.23462417712]}], \"root_mean_squared_log_error\": [{\"categories\": [\"1\", \"2\", \"3\", \"4\", \"5\", \"6\", \"7\", \"8\", \"9\", \"10\", \"11\", \"12\", \"13\", \"14\", \"15\", \"16\", \"17\", \"18\", \"19\"], \"mode\": \"markers\", \"name\": \"root_mean_squared_log_error\", \"stepped\": false, \"type\": \"scatter\", \"data\": [0.788647676058535, NaN, 0.7946949252342481, 0.7976394596733862, NaN, 0.7874743600306506, 0.7573777328108647, 0.6498237355915508, 0.6557193463812253, 0.6943499957494818, 0.7081014346346578, NaN, 0.7914136647513026, 0.7674669907595796, 0.623539517251204, NaN, NaN, 0.6091043401055782, 0.6412010367746968]}, {\"categories\": [\"1\", \"2\", \"3\", \"4\", \"5\", \"6\", \"7\", \"8\", \"9\", \"10\", \"11\", \"12\", \"13\", \"14\", \"15\", \"16\", \"17\", \"18\", \"19\"], \"mode\": \"lines\", \"name\": \"root_mean_squared_log_error_min\", \"stepped\": true, \"type\": \"scatter\", \"data\": [0.788647676058535, 0.788647676058535, 0.788647676058535, 0.788647676058535, 0.788647676058535, 0.7874743600306506, 0.7573777328108647, 0.6498237355915508, 0.6498237355915508, 0.6498237355915508, 0.6498237355915508, 0.6498237355915508, 0.6498237355915508, 0.6498237355915508, 0.623539517251204, 0.623539517251204, 0.623539517251204, 0.6091043401055782, 0.6091043401055782]}]}, \"metricName\": null, \"primaryMetricName\": \"normalized_mean_absolute_error\", \"showLegend\": false}, \"run_metrics\": [], \"run_logs\": \"\\nRun is completed.\", \"graph\": {}, \"widget_settings\": {\"childWidgetDisplay\": \"popup\", \"send_telemetry\": false, \"log_level\": \"INFO\", \"sdk_version\": \"1.0.83\"}, \"loading\": false}"
     },
     "metadata": {},
     "output_type": "display_data"
    }
   ],
   "source": [
    "# 以下2行を追加。Widget で結果確認。\n",
    "\n",
    "from azureml.widgets import RunDetails\n",
    "RunDetails(remote_run).show()"
   ]
  },
  {
   "cell_type": "markdown",
   "metadata": {},
   "source": [
    "### Retrieve the Best Model\n",
    "Each run within an Experiment stores serialized (i.e. pickled) pipelines from the AutoML iterations. We can now retrieve the pipeline with the best performance on the validation dataset:"
   ]
  },
  {
   "cell_type": "code",
   "execution_count": 22,
   "metadata": {},
   "outputs": [
    {
     "name": "stdout",
     "output_type": "stream",
     "text": [
      "[('timeseriestransformer', TimeSeriesTransformer(logger=None,\n",
      "           pipeline_type=<TimeSeriesPipelineType.FULL: 1>)), ('prefittedsoftvotingregressor', PreFittedSoftVotingRegressor(estimators=[('15', Pipeline(memory=None,\n",
      "     steps=[('minmaxscaler', MinMaxScaler(copy=True, feature_range=(0, 1))), ('randomforestregressor', RandomForestRegressor(bootstrap=True, criterion='mse', max_depth=None,\n",
      "           max_features=None, max_leaf_nodes=None,\n",
      "           min_impurity_decrease=0... subsample=0.95, tol=0.0001, validation_fraction=0.1,\n",
      "             verbose=0, warm_start=False))]))],\n",
      "               flatten_transform=None,\n",
      "               weights=[0.45454545454545453, 0.18181818181818182, 0.09090909090909091, 0.09090909090909091, 0.18181818181818182]))]\n"
     ]
    }
   ],
   "source": [
    "best_run, fitted_model = remote_run.get_output()\n",
    "print(fitted_model.steps)\n",
    "model_name = best_run.properties['model_name']"
   ]
  },
  {
   "cell_type": "markdown",
   "metadata": {},
   "source": [
    "# Forecasting\n",
    "\n",
    "Now that we have retrieved the best pipeline/model, it can be used to make predictions on test data. First, we remove the target values from the test set:"
   ]
  },
  {
   "cell_type": "code",
   "execution_count": 23,
   "metadata": {},
   "outputs": [],
   "source": [
    "X_test = test\n",
    "y_test = X_test.pop(target_column_name).values"
   ]
  },
  {
   "cell_type": "code",
   "execution_count": 24,
   "metadata": {},
   "outputs": [
    {
     "data": {
      "text/html": [
       "<div>\n",
       "<style scoped>\n",
       "    .dataframe tbody tr th:only-of-type {\n",
       "        vertical-align: middle;\n",
       "    }\n",
       "\n",
       "    .dataframe tbody tr th {\n",
       "        vertical-align: top;\n",
       "    }\n",
       "\n",
       "    .dataframe thead th {\n",
       "        text-align: right;\n",
       "    }\n",
       "</style>\n",
       "<table border=\"1\" class=\"dataframe\">\n",
       "  <thead>\n",
       "    <tr style=\"text-align: right;\">\n",
       "      <th></th>\n",
       "      <th>WeekStarting</th>\n",
       "      <th>Store</th>\n",
       "      <th>Brand</th>\n",
       "      <th>logQuantity</th>\n",
       "      <th>Advert</th>\n",
       "      <th>Price</th>\n",
       "      <th>Age60</th>\n",
       "      <th>COLLEGE</th>\n",
       "      <th>INCOME</th>\n",
       "      <th>Hincome150</th>\n",
       "      <th>Large HH</th>\n",
       "      <th>Minorities</th>\n",
       "      <th>WorkingWoman</th>\n",
       "      <th>SSTRDIST</th>\n",
       "      <th>SSTRVOL</th>\n",
       "      <th>CPDIST5</th>\n",
       "      <th>CPWVOL5</th>\n",
       "    </tr>\n",
       "  </thead>\n",
       "  <tbody>\n",
       "    <tr>\n",
       "      <th>24192</th>\n",
       "      <td>1992-05-21</td>\n",
       "      <td>2</td>\n",
       "      <td>dominicks</td>\n",
       "      <td>9.18</td>\n",
       "      <td>0</td>\n",
       "      <td>1.69</td>\n",
       "      <td>0.23</td>\n",
       "      <td>0.25</td>\n",
       "      <td>10.55</td>\n",
       "      <td>0.46</td>\n",
       "      <td>0.10</td>\n",
       "      <td>0.11</td>\n",
       "      <td>0.30</td>\n",
       "      <td>2.11</td>\n",
       "      <td>1.14</td>\n",
       "      <td>1.93</td>\n",
       "      <td>0.38</td>\n",
       "    </tr>\n",
       "    <tr>\n",
       "      <th>24441</th>\n",
       "      <td>1992-05-28</td>\n",
       "      <td>2</td>\n",
       "      <td>dominicks</td>\n",
       "      <td>10.73</td>\n",
       "      <td>0</td>\n",
       "      <td>1.69</td>\n",
       "      <td>0.23</td>\n",
       "      <td>0.25</td>\n",
       "      <td>10.55</td>\n",
       "      <td>0.46</td>\n",
       "      <td>0.10</td>\n",
       "      <td>0.11</td>\n",
       "      <td>0.30</td>\n",
       "      <td>2.11</td>\n",
       "      <td>1.14</td>\n",
       "      <td>1.93</td>\n",
       "      <td>0.38</td>\n",
       "    </tr>\n",
       "    <tr>\n",
       "      <th>24675</th>\n",
       "      <td>1992-06-04</td>\n",
       "      <td>2</td>\n",
       "      <td>dominicks</td>\n",
       "      <td>9.95</td>\n",
       "      <td>0</td>\n",
       "      <td>1.74</td>\n",
       "      <td>0.23</td>\n",
       "      <td>0.25</td>\n",
       "      <td>10.55</td>\n",
       "      <td>0.46</td>\n",
       "      <td>0.10</td>\n",
       "      <td>0.11</td>\n",
       "      <td>0.30</td>\n",
       "      <td>2.11</td>\n",
       "      <td>1.14</td>\n",
       "      <td>1.93</td>\n",
       "      <td>0.38</td>\n",
       "    </tr>\n",
       "    <tr>\n",
       "      <th>24909</th>\n",
       "      <td>1992-06-11</td>\n",
       "      <td>2</td>\n",
       "      <td>dominicks</td>\n",
       "      <td>8.79</td>\n",
       "      <td>0</td>\n",
       "      <td>2.09</td>\n",
       "      <td>0.23</td>\n",
       "      <td>0.25</td>\n",
       "      <td>10.55</td>\n",
       "      <td>0.46</td>\n",
       "      <td>0.10</td>\n",
       "      <td>0.11</td>\n",
       "      <td>0.30</td>\n",
       "      <td>2.11</td>\n",
       "      <td>1.14</td>\n",
       "      <td>1.93</td>\n",
       "      <td>0.38</td>\n",
       "    </tr>\n",
       "    <tr>\n",
       "      <th>25152</th>\n",
       "      <td>1992-06-18</td>\n",
       "      <td>2</td>\n",
       "      <td>dominicks</td>\n",
       "      <td>8.52</td>\n",
       "      <td>0</td>\n",
       "      <td>2.05</td>\n",
       "      <td>0.23</td>\n",
       "      <td>0.25</td>\n",
       "      <td>10.55</td>\n",
       "      <td>0.46</td>\n",
       "      <td>0.10</td>\n",
       "      <td>0.11</td>\n",
       "      <td>0.30</td>\n",
       "      <td>2.11</td>\n",
       "      <td>1.14</td>\n",
       "      <td>1.93</td>\n",
       "      <td>0.38</td>\n",
       "    </tr>\n",
       "  </tbody>\n",
       "</table>\n",
       "</div>"
      ],
      "text/plain": [
       "      WeekStarting  Store      Brand  logQuantity  Advert  Price  Age60  \\\n",
       "24192 1992-05-21    2      dominicks 9.18          0      1.69   0.23     \n",
       "24441 1992-05-28    2      dominicks 10.73         0      1.69   0.23     \n",
       "24675 1992-06-04    2      dominicks 9.95          0      1.74   0.23     \n",
       "24909 1992-06-11    2      dominicks 8.79          0      2.09   0.23     \n",
       "25152 1992-06-18    2      dominicks 8.52          0      2.05   0.23     \n",
       "\n",
       "       COLLEGE  INCOME  Hincome150  Large HH  Minorities  WorkingWoman  \\\n",
       "24192 0.25     10.55   0.46        0.10      0.11        0.30            \n",
       "24441 0.25     10.55   0.46        0.10      0.11        0.30            \n",
       "24675 0.25     10.55   0.46        0.10      0.11        0.30            \n",
       "24909 0.25     10.55   0.46        0.10      0.11        0.30            \n",
       "25152 0.25     10.55   0.46        0.10      0.11        0.30            \n",
       "\n",
       "       SSTRDIST  SSTRVOL  CPDIST5  CPWVOL5  \n",
       "24192 2.11      1.14     1.93     0.38      \n",
       "24441 2.11      1.14     1.93     0.38      \n",
       "24675 2.11      1.14     1.93     0.38      \n",
       "24909 2.11      1.14     1.93     0.38      \n",
       "25152 2.11      1.14     1.93     0.38      "
      ]
     },
     "execution_count": 24,
     "metadata": {},
     "output_type": "execute_result"
    }
   ],
   "source": [
    "X_test.head()\n",
    "# Quantity 列が無い事を確認"
   ]
  },
  {
   "cell_type": "markdown",
   "metadata": {},
   "source": [
    "To produce predictions on the test set, we need to know the feature values at all dates in the test set. This requirement is somewhat reasonable for the OJ sales data since the features mainly consist of price, which is usually set in advance, and customer demographics which are approximately constant for each store over the 20 week forecast horizon in the testing data."
   ]
  },
  {
   "cell_type": "code",
   "execution_count": 25,
   "metadata": {},
   "outputs": [],
   "source": [
    "# The featurized data, aligned to y, will also be returned.\n",
    "# This contains the assumptions that were made in the forecast\n",
    "# and helps align the forecast to the original data\n",
    "y_predictions, X_trans = fitted_model.forecast(X_test)"
   ]
  },
  {
   "cell_type": "markdown",
   "metadata": {},
   "source": [
    "If you are used to scikit pipelines, perhaps you expected `predict(X_test)`. However, forecasting requires a more general interface that also supplies the past target `y` values. Please use `forecast(X,y)` as `predict(X)` is reserved for internal purposes on forecasting models.\n",
    "\n",
    "The [energy demand forecasting notebook](https://github.com/Azure/MachineLearningNotebooks/tree/master/how-to-use-azureml/automated-machine-learning/forecasting-energy-demand) demonstrates the use of the forecast function in more detail in the context of using lags and rolling window features. "
   ]
  },
  {
   "cell_type": "markdown",
   "metadata": {},
   "source": [
    "# Evaluate\n",
    "\n",
    "To evaluate the accuracy of the forecast, we'll compare against the actual sales quantities for some select metrics, included the mean absolute percentage error (MAPE). \n",
    "\n",
    "It is a good practice to always align the output explicitly to the input, as the count and order of the rows may have changed during transformations that span multiple rows."
   ]
  },
  {
   "cell_type": "code",
   "execution_count": 26,
   "metadata": {},
   "outputs": [],
   "source": [
    "from forecasting_helper import align_outputs\n",
    "\n",
    "df_all = align_outputs(y_predictions, X_trans, X_test, y_test, target_column_name)"
   ]
  },
  {
   "cell_type": "code",
   "execution_count": 27,
   "metadata": {},
   "outputs": [
    {
     "name": "stdout",
     "output_type": "stream",
     "text": [
      "[Test data scores]\n",
      "\n",
      "explained_variance:   0.208\n",
      "r2_score:   0.205\n",
      "spearman_correlation:   0.661\n",
      "mean_absolute_percentage_error:   77.900\n",
      "mean_absolute_error:   10257.856\n",
      "normalized_mean_absolute_error:   0.077\n",
      "median_absolute_error:   4029.144\n",
      "normalized_median_absolute_error:   0.030\n",
      "root_mean_squared_error:   18340.435\n",
      "normalized_root_mean_squared_error:   0.139\n",
      "root_mean_squared_log_error:   0.727\n",
      "normalized_root_mean_squared_log_error:   0.160\n"
     ]
    },
    {
     "data": {
      "image/png": "[encoded data removed]",
      "text/plain": [
       "<Figure size 432x288 with 1 Axes>"
      ]
     },
     "metadata": {
      "needs_background": "light"
     },
     "output_type": "display_data"
    }
   ],
   "source": [
    "from azureml.automl.core._vendor.automl.client.core.common import metrics\n",
    "from matplotlib import pyplot as plt\n",
    "from automl.client.core.common import constants\n",
    "\n",
    "# use automl metrics module\n",
    "scores = metrics.compute_metrics_regression(\n",
    "    df_all['predicted'],\n",
    "    df_all[target_column_name],\n",
    "    list(constants.Metric.SCALAR_REGRESSION_SET),\n",
    "    None, None, None)\n",
    "\n",
    "print(\"[Test data scores]\\n\")\n",
    "for key, value in scores.items():    \n",
    "    print('{}:   {:.3f}'.format(key, value))\n",
    "    \n",
    "# Plot outputs\n",
    "%matplotlib inline\n",
    "test_pred = plt.scatter(df_all[target_column_name], df_all['predicted'], color='b')\n",
    "test_test = plt.scatter(df_all[target_column_name], df_all[target_column_name], color='g')\n",
    "plt.legend((test_pred, test_test), ('prediction', 'truth'), loc='upper left', fontsize=8)\n",
    "plt.show()"
   ]
  },
  {
   "cell_type": "markdown",
   "metadata": {},
   "source": [
    "# Operationalize"
   ]
  },
  {
   "cell_type": "markdown",
   "metadata": {},
   "source": [
    "_Operationalization_ means getting the model into the cloud so that other can run it after you close the notebook. We will create a docker running on Azure Container Instances with the model."
   ]
  },
  {
   "cell_type": "code",
   "execution_count": 28,
   "metadata": {},
   "outputs": [
    {
     "name": "stdout",
     "output_type": "stream",
     "text": [
      "AutoML80fc5bdc318\n"
     ]
    }
   ],
   "source": [
    "description = 'AutoML OJ forecaster'\n",
    "tags = None\n",
    "model = remote_run.register_model(model_name = model_name, description = description, tags = tags)\n",
    "\n",
    "print(remote_run.model_id)"
   ]
  },
  {
   "cell_type": "markdown",
   "metadata": {},
   "source": [
    "### Develop the scoring script\n",
    "\n",
    "For the deployment we need a function which will run the forecast on serialized data. It can be obtained from the best_run."
   ]
  },
  {
   "cell_type": "code",
   "execution_count": 29,
   "metadata": {},
   "outputs": [],
   "source": [
    "script_file_name = 'score_fcast.py'\n",
    "best_run.download_file('outputs/scoring_file_v_1_0_0.py', script_file_name)"
   ]
  },
  {
   "cell_type": "markdown",
   "metadata": {},
   "source": [
    "### Deploy the model as a Web Service on Azure Container Instance"
   ]
  },
  {
   "cell_type": "code",
   "execution_count": 31,
   "metadata": {},
   "outputs": [
    {
     "name": "stdout",
     "output_type": "stream",
     "text": [
      "automl-oj-forecast-03\n",
      "Running...........................................\n",
      "Succeeded\n",
      "ACI service creation operation finished, operation \"Succeeded\"\n",
      "Healthy\n"
     ]
    }
   ],
   "source": [
    "from azureml.core.model import InferenceConfig\n",
    "from azureml.core.webservice import AciWebservice\n",
    "from azureml.core.webservice import Webservice\n",
    "from azureml.core.model import Model\n",
    "\n",
    "inference_config = InferenceConfig(environment = best_run.get_environment(), \n",
    "                                   entry_script = script_file_name)\n",
    "\n",
    "aciconfig = AciWebservice.deploy_configuration(cpu_cores = 1, \n",
    "                                               memory_gb = 2, \n",
    "                                               tags = {'type': \"automl-forecasting\"},\n",
    "                                               description = \"Automl forecasting sample service\")\n",
    "\n",
    "aci_service_name = 'automl-oj-forecast-03'\n",
    "print(aci_service_name)\n",
    "aci_service = Model.deploy(ws, aci_service_name, [model], inference_config, aciconfig)\n",
    "aci_service.wait_for_deployment(True)\n",
    "print(aci_service.state)"
   ]
  },
  {
   "cell_type": "code",
   "execution_count": 32,
   "metadata": {},
   "outputs": [
    {
     "data": {
      "text/plain": [
       "'2020-03-20T10:19:40,211522959+00:00 - rsyslog/run \\n2020-03-20T10:19:40,211721860+00:00 - iot-server/run \\n2020-03-20T10:19:40,212341563+00:00 - gunicorn/run \\n2020-03-20T10:19:40,217744889+00:00 - nginx/run \\n/usr/sbin/nginx: /azureml-envs/azureml_bb5f448562b2c4428838c28d9b22ab0f/lib/libcrypto.so.1.0.0: no version information available (required by /usr/sbin/nginx)\\n/usr/sbin/nginx: /azureml-envs/azureml_bb5f448562b2c4428838c28d9b22ab0f/lib/libcrypto.so.1.0.0: no version information available (required by /usr/sbin/nginx)\\n/usr/sbin/nginx: /azureml-envs/azureml_bb5f448562b2c4428838c28d9b22ab0f/lib/libssl.so.1.0.0: no version information available (required by /usr/sbin/nginx)\\n/usr/sbin/nginx: /azureml-envs/azureml_bb5f448562b2c4428838c28d9b22ab0f/lib/libssl.so.1.0.0: no version information available (required by /usr/sbin/nginx)\\n/usr/sbin/nginx: /azureml-envs/azureml_bb5f448562b2c4428838c28d9b22ab0f/lib/libssl.so.1.0.0: no version information available (required by /usr/sbin/nginx)\\nStarting gunicorn 19.9.0\\nListening at: http://127.0.0.1:31311 (10)\\nUsing worker: sync\\nworker timeout is set to 300\\nBooting worker with pid: 31\\nEdgeHubConnectionString and IOTEDGE_IOTHUBHOSTNAME are not set. Exiting...\\n2020-03-20T10:19:42,412797231+00:00 - iot-server/finish 1 0\\n2020-03-20T10:19:42,420705769+00:00 - Exit code 1 is normal. Not restarting iot-server.\\nInitialized PySpark session.\\nInitializing logger\\nStarting up app insights client\\nStarting up request id generator\\nStarting up app insight hooks\\nInvoking user\\'s init function\\n2020-03-20 10:19:50,804 | azureml.core.run | DEBUG | Could not load run context RunEnvironmentException:\\n\\tMessage: Could not load a submitted run, if outside of an execution context, use experiment.start_logging to initialize an azureml.core.Run.\\n\\tInnerException None\\n\\tErrorResponse \\n{\\n    \"error\": {\\n        \"message\": \"Could not load a submitted run, if outside of an execution context, use experiment.start_logging to initialize an azureml.core.Run.\"\\n    }\\n}, switching offline: False\\n2020-03-20 10:19:50,804 | azureml.core.run | DEBUG | Could not load the run context and allow_offline set to False\\n2020-03-20 10:19:50,804 | azureml.core.model | DEBUG | version is None. Latest version is 1\\n2020-03-20 10:19:50,804 | azureml.core.model | DEBUG | Found model path at azureml-models/AutoML80fc5bdc318/1/model.pkl\\nUsers\\'s init has completed successfully\\nScoring timeout is found from os.environ: 60000 ms\\n'"
      ]
     },
     "execution_count": 32,
     "metadata": {},
     "output_type": "execute_result"
    }
   ],
   "source": [
    "aci_service.get_logs()"
   ]
  },
  {
   "cell_type": "markdown",
   "metadata": {},
   "source": [
    "### Call the service"
   ]
  },
  {
   "cell_type": "code",
   "execution_count": 33,
   "metadata": {},
   "outputs": [],
   "source": [
    "import json\n",
    "# The request data frame needs to have y_query column which corresponds to query.\n",
    "X_query = X_test.copy()\n",
    "X_query['y_query'] = np.NaN\n",
    "# We have to convert datetime to string, because Timestamps cannot be serialized to JSON.\n",
    "X_query[time_column_name] = X_query[time_column_name].astype(str)\n",
    "# The Service object accept the complex dictionary, which is internally converted to JSON string.\n",
    "# The section 'data' contains the data frame in the form of dictionary.\n",
    "test_sample = json.dumps({'data': X_query.to_dict(orient='records')})\n",
    "response = aci_service.run(input_data = test_sample)\n",
    "# translate from networkese to datascientese\n",
    "try: \n",
    "    res_dict = json.loads(response)\n",
    "    y_fcst_all = pd.DataFrame(res_dict['index'])\n",
    "    y_fcst_all[time_column_name] = pd.to_datetime(y_fcst_all[time_column_name], unit = 'ms')\n",
    "    y_fcst_all['forecast'] = res_dict['forecast']    \n",
    "except:\n",
    "    print(res_dict)"
   ]
  },
  {
   "cell_type": "code",
   "execution_count": 73,
   "metadata": {},
   "outputs": [
    {
     "name": "stdout",
     "output_type": "stream",
     "text": [
      "           Brand  Store WeekStarting  forecast\n",
      "0    dominicks    5     1992-05-14   7107.38  \n",
      "1    minute.maid  5     1992-05-14   6063.83  \n",
      "2    tropicana    5     1992-05-14   8076.83  \n",
      "3    dominicks    8     1992-05-14   12116.39 \n",
      "4    minute.maid  8     1992-05-14   8451.48  \n",
      "5    tropicana    8     1992-05-14   9936.70  \n",
      "6    dominicks    2     1992-05-21   9141.73  \n",
      "7    minute.maid  2     1992-05-21   25444.15 \n",
      "8    tropicana    2     1992-05-21   7112.20  \n",
      "9    dominicks    5     1992-05-21   9207.48  \n",
      "10   minute.maid  5     1992-05-21   48349.98 \n",
      "11   tropicana    5     1992-05-21   8415.03  \n",
      "12   dominicks    8     1992-05-21   16944.35 \n",
      "13   minute.maid  8     1992-05-21   85555.68 \n",
      "14   tropicana    8     1992-05-21   9968.97  \n",
      "15   dominicks    2     1992-05-28   10586.07 \n",
      "16   minute.maid  2     1992-05-28   5574.33  \n",
      "17   tropicana    2     1992-05-28   7050.03  \n",
      "18   dominicks    5     1992-05-28   10792.00 \n",
      "19   minute.maid  5     1992-05-28   6928.08  \n",
      "20   tropicana    5     1992-05-28   8316.16  \n",
      "21   dominicks    8     1992-05-28   17679.61 \n",
      "22   minute.maid  8     1992-05-28   9693.39  \n",
      "23   tropicana    8     1992-05-28   9899.37  \n",
      "24   dominicks    2     1992-06-04   13684.92 \n",
      "25   minute.maid  2     1992-06-04   6255.01  \n",
      "26   tropicana    2     1992-06-04   20107.86 \n",
      "27   dominicks    5     1992-06-04   13968.84 \n",
      "28   minute.maid  5     1992-06-04   6712.96  \n",
      "29   tropicana    5     1992-06-04   20811.30 \n",
      "..         ...   ..            ...        ... \n",
      "150  dominicks    8     1992-09-10   15530.39 \n",
      "151  minute.maid  8     1992-09-10   35420.81 \n",
      "152  tropicana    8     1992-09-10   13666.74 \n",
      "153  dominicks    2     1992-09-17   11378.15 \n",
      "154  minute.maid  2     1992-09-17   5097.87  \n",
      "155  tropicana    2     1992-09-17   6996.95  \n",
      "156  dominicks    5     1992-09-17   9573.50  \n",
      "157  minute.maid  5     1992-09-17   6972.15  \n",
      "158  tropicana    5     1992-09-17   8296.53  \n",
      "159  dominicks    8     1992-09-17   15557.65 \n",
      "160  minute.maid  8     1992-09-17   10018.49 \n",
      "161  tropicana    8     1992-09-17   8969.71  \n",
      "162  dominicks    2     1992-09-24   12877.59 \n",
      "163  minute.maid  2     1992-09-24   5748.97  \n",
      "164  tropicana    2     1992-09-24   19032.69 \n",
      "165  dominicks    5     1992-09-24   12746.22 \n",
      "166  minute.maid  5     1992-09-24   9848.42  \n",
      "167  tropicana    5     1992-09-24   21115.76 \n",
      "168  dominicks    8     1992-09-24   24590.04 \n",
      "169  minute.maid  8     1992-09-24   11278.58 \n",
      "170  tropicana    8     1992-09-24   36634.09 \n",
      "171  dominicks    2     1992-10-01   9465.08  \n",
      "172  minute.maid  2     1992-10-01   22594.40 \n",
      "173  tropicana    2     1992-10-01   11953.45 \n",
      "174  dominicks    5     1992-10-01   9403.39  \n",
      "175  minute.maid  5     1992-10-01   22965.65 \n",
      "176  tropicana    5     1992-10-01   11085.76 \n",
      "177  dominicks    8     1992-10-01   14157.82 \n",
      "178  minute.maid  8     1992-10-01   26522.13 \n",
      "179  tropicana    8     1992-10-01   12503.12 \n",
      "\n",
      "[180 rows x 4 columns]\n"
     ]
    }
   ],
   "source": [
    "print(y_fcst_all)\n",
    "\n",
    "# 全店舗における全商品の、先20週分の販売数量の予測結果"
   ]
  },
  {
   "cell_type": "code",
   "execution_count": 88,
   "metadata": {},
   "outputs": [
    {
     "name": "stdout",
     "output_type": "stream",
     "text": [
      "         Brand  Store WeekStarting  forecast\n",
      "8    tropicana  2     1992-05-21   7112.20  \n",
      "17   tropicana  2     1992-05-28   7050.03  \n",
      "26   tropicana  2     1992-06-04   20107.86 \n",
      "35   tropicana  2     1992-06-11   13345.92 \n",
      "44   tropicana  2     1992-06-18   33799.02 \n",
      "47   tropicana  2     1992-06-25   18721.06 \n",
      "56   tropicana  2     1992-07-02   12023.14 \n",
      "65   tropicana  2     1992-07-09   7011.28  \n",
      "74   tropicana  2     1992-07-16   6542.63  \n",
      "83   tropicana  2     1992-07-23   6536.87  \n",
      "92   tropicana  2     1992-07-30   6157.90  \n",
      "101  tropicana  2     1992-08-06   15670.25 \n",
      "110  tropicana  2     1992-08-13   6645.52  \n",
      "119  tropicana  2     1992-08-20   20539.57 \n",
      "128  tropicana  2     1992-08-27   9050.26  \n",
      "137  tropicana  2     1992-09-03   21842.07 \n",
      "146  tropicana  2     1992-09-10   10496.27 \n",
      "155  tropicana  2     1992-09-17   6996.95  \n",
      "164  tropicana  2     1992-09-24   19032.69 \n",
      "173  tropicana  2     1992-10-01   11953.45 \n"
     ]
    }
   ],
   "source": [
    "y_fcst_store2_tropicana = y_fcst_all[(y_fcst_all['Store'] == 2) & (y_fcst_all['Brand'] == 'tropicana') ]\n",
    "print(y_fcst_store2_tropicana.sort_values('WeekStarting'))\n",
    "\n",
    "# 店舗2 におけるトロピカーナの、先20週分の販売数量の予測結果"
   ]
  },
  {
   "cell_type": "code",
   "execution_count": 84,
   "metadata": {},
   "outputs": [
    {
     "name": "stdout",
     "output_type": "stream",
     "text": [
      "         Brand  Store WeekStarting  forecast\n",
      "6    dominicks  2     1992-05-21   9141.73  \n",
      "15   dominicks  2     1992-05-28   10586.07 \n",
      "24   dominicks  2     1992-06-04   13684.92 \n",
      "33   dominicks  2     1992-06-11   4926.12  \n",
      "42   dominicks  2     1992-06-18   4965.21  \n",
      "45   dominicks  2     1992-06-25   22322.12 \n",
      "54   dominicks  2     1992-07-02   9126.95  \n",
      "63   dominicks  2     1992-07-09   32537.30 \n",
      "72   dominicks  2     1992-07-16   8090.11  \n",
      "81   dominicks  2     1992-07-23   10198.64 \n",
      "90   dominicks  2     1992-07-30   28801.53 \n",
      "99   dominicks  2     1992-08-06   19777.56 \n",
      "108  dominicks  2     1992-08-13   7211.71  \n",
      "117  dominicks  2     1992-08-20   12032.80 \n",
      "126  dominicks  2     1992-08-27   23498.11 \n",
      "135  dominicks  2     1992-09-03   4798.44  \n",
      "144  dominicks  2     1992-09-10   4840.39  \n",
      "153  dominicks  2     1992-09-17   11378.15 \n",
      "162  dominicks  2     1992-09-24   12877.59 \n",
      "171  dominicks  2     1992-10-01   9465.08  \n"
     ]
    }
   ],
   "source": [
    "y_fcst_store2_dominicks = y_fcst_all[(y_fcst_all['Store'] == 2) & (y_fcst_all['Brand'] == 'dominicks') ]\n",
    "print(y_fcst_store2_dominicks.sort_values('WeekStarting'))\n",
    "\n",
    "# 店舗2 におけるドミニクスの、先20週分の販売数量の予測結果"
   ]
  },
  {
   "cell_type": "code",
   "execution_count": 89,
   "metadata": {},
   "outputs": [
    {
     "name": "stdout",
     "output_type": "stream",
     "text": [
      "           Brand  Store WeekStarting  forecast\n",
      "7    minute.maid  2     1992-05-21   25444.15 \n",
      "16   minute.maid  2     1992-05-28   5574.33  \n",
      "25   minute.maid  2     1992-06-04   6255.01  \n",
      "34   minute.maid  2     1992-06-11   5601.31  \n",
      "43   minute.maid  2     1992-06-18   5546.21  \n",
      "46   minute.maid  2     1992-06-25   7340.53  \n",
      "55   minute.maid  2     1992-07-02   25985.02 \n",
      "64   minute.maid  2     1992-07-09   21680.11 \n",
      "73   minute.maid  2     1992-07-16   5202.84  \n",
      "82   minute.maid  2     1992-07-23   18575.07 \n",
      "91   minute.maid  2     1992-07-30   5330.38  \n",
      "100  minute.maid  2     1992-08-06   15482.29 \n",
      "109  minute.maid  2     1992-08-13   27343.28 \n",
      "118  minute.maid  2     1992-08-20   39527.84 \n",
      "127  minute.maid  2     1992-08-27   13583.57 \n",
      "136  minute.maid  2     1992-09-03   12820.76 \n",
      "145  minute.maid  2     1992-09-10   26738.69 \n",
      "154  minute.maid  2     1992-09-17   5097.87  \n",
      "163  minute.maid  2     1992-09-24   5748.97  \n",
      "172  minute.maid  2     1992-10-01   22594.40 \n"
     ]
    }
   ],
   "source": [
    "y_fcst_store2_minutemaid = y_fcst_all[(y_fcst_all['Store'] == 2) & (y_fcst_all['Brand'] == 'minute.maid') ]\n",
    "print(y_fcst_store2_minutemaid.sort_values('WeekStarting'))\n",
    "\n",
    "# 店舗2 におけるミニッツメイドの、先20週分の販売数量の予測結果"
   ]
  },
  {
   "cell_type": "markdown",
   "metadata": {},
   "source": [
    "### Delete the web service if desired"
   ]
  },
  {
   "cell_type": "code",
   "execution_count": 86,
   "metadata": {},
   "outputs": [],
   "source": [
    "serv = Webservice(ws, 'automl-oj-forecast-02')\n",
    "serv.delete()     # don't do it accidentally"
   ]
  },
  {
   "cell_type": "code",
   "execution_count": null,
   "metadata": {},
   "outputs": [],
   "source": []
  }
 ],
 "metadata": {
  "authors": [
   {
    "name": "erwright"
   }
  ],
  "categories": [
   "how-to-use-azureml",
   "automated-machine-learning"
  ],
  "category": "tutorial",
  "celltoolbar": "Raw Cell Format",
  "compute": [
   "Remote"
  ],
  "datasets": [
   "Orange Juice Sales"
  ],
  "deployment": [
   "Azure Container Instance"
  ],
  "exclude_from_index": false,
  "framework": [
   "Azure ML AutoML"
  ],
  "friendly_name": "Forecasting orange juice sales with deployment",
  "index_order": 1,
  "kernelspec": {
   "display_name": "Python 3.6 - AzureML",
   "language": "python",
   "name": "python3-azureml"
  },
  "language_info": {
   "codemirror_mode": {
    "name": "ipython",
    "version": 3
   },
   "file_extension": ".py",
   "mimetype": "text/x-python",
   "name": "python",
   "nbconvert_exporter": "python",
   "pygments_lexer": "ipython3",
   "version": "3.6.9"
  },
  "tags": [
   "None"
  ],
  "task": "Forecasting"
 },
 "nbformat": 4,
 "nbformat_minor": 2
}
